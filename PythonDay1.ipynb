{
  "nbformat": 4,
  "nbformat_minor": 0,
  "metadata": {
    "colab": {
      "name": "PythonDay1.ipynb",
      "provenance": [],
      "collapsed_sections": []
    },
    "kernelspec": {
      "name": "python3",
      "display_name": "Python 3"
    },
    "language_info": {
      "name": "python"
    }
  },
  "cells": [
    {
      "cell_type": "code",
      "metadata": {
        "id": "GadywNYuELRC"
      },
      "source": [
        ""
      ],
      "execution_count": null,
      "outputs": []
    },
    {
      "cell_type": "markdown",
      "metadata": {
        "id": "aFaE1aFnEMyB"
      },
      "source": [
        "1.파이썬이란...\n",
        "1990년 귀도 반 로섬이 개발한 인터프리터 언어.. ( != 컴파일러) 코미디 쇼에 나오는 제목에 따왔다. 사전적인 의미는 고대 신화에 나오는 동굴에 살던 큰 뱀. 아폴로 신이 파이썬을 퇴치했다는 이야기가 전해진다.\n",
        "프로그래밍 교육을 위해서 많이 사용이되며 동시에 기업의 실무에서도 많이 사용된다. (!=베이직언어)\n",
        "구글의 소프트웨어의 50%이상이 파이썬으로 작성되었다. 그 외에도 인스타그램, 드랍박스등이 파이썬으로 작성. 파이썬은 공동작업과 유지보수가 매우 쉽고 편하다.. 이미 다른언어로 작성된 프로그램들이 파이썬으로 재구성되고 있다. \n",
        "\n",
        "2. 파이썬의 특징\n",
        "(1)파이썬은 인간다운 언어이다. \n",
        "(2)파이썬은 문법이 쉬워 빠르게 배울 수 있다..(3)파이썬은 무료이지만 강력하다.\n",
        "(4)파이썬은 간결하다.\n",
        "(5)파이썬은 프로그래밍을 즐기게 해준다.\n",
        "(6)파이썬은 개발 속도가 빠르다.\n",
        " Life is too short you need python\n",
        "\n",
        " 3.파이썬으로 할 수 있는..\n",
        " (1) 시스템 유틸리티\n",
        " (2) GUI 프로그래밍(pyqt)\n",
        " (3) C, C++ 결합 쉬움(glue언어)\n",
        " (4) 웹 프로그래밍(flask,django)\n",
        " (5) 수치연산 (Numpy)\n",
        " (6) Database (Oracle,MySQL,MariaDB)\n",
        " (7) 데이터분석(Pandas)\n",
        " - 시스템 밀접한 하드웨어, 모바일(안드로이드, 아이폰..)\n",
        " \n",
        " "
      ]
    },
    {
      "cell_type": "markdown",
      "metadata": {
        "id": "hcXB0cn6KrnU"
      },
      "source": [
        "2 자료형\n",
        "리스트,튜플,딕셔너리,셋 ....\n",
        "어떤 프로그래밍 언어든 '그 언어의 자료형을 알고 이해할 수 있다면 그 언어의 절반을 터득한 것이다.' \n",
        "프로그램의 기본이자 핵심 단위이다.\n",
        "자료형을 충분히 이해하지 않고 프로그래밍을 시작하는 것은 기초공사가 마무리 되지 않은 상태에서 건물을 세우는 것과 같다."
      ]
    },
    {
      "cell_type": "code",
      "metadata": {
        "colab": {
          "base_uri": "https://localhost:8080/"
        },
        "id": "Yz6R54hwK2s7",
        "outputId": "edbd734c-1e20-48e5-8e4d-6ece22b2051d"
      },
      "source": [
        "# 숫자형 : 숫자 형태로 이루어진 자료형 1,2,3 정수 12.3, 3.14 실수\n",
        "# 정수형\n",
        "\n",
        "a = 123\n",
        "print(a)\n",
        "\n",
        "b = 3.14\n",
        "print(b)\n",
        "\n",
        "c= \"Hi\"\n",
        "print(c)"
      ],
      "execution_count": null,
      "outputs": [
        {
          "output_type": "stream",
          "name": "stdout",
          "text": [
            "123\n",
            "3.14\n",
            "Hi\n"
          ]
        }
      ]
    },
    {
      "cell_type": "code",
      "metadata": {
        "colab": {
          "base_uri": "https://localhost:8080/"
        },
        "id": "Z7_VyvndMgxA",
        "outputId": "7ca094e5-279a-44d1-91dd-a24527e10ccc"
      },
      "source": [
        "#숫자형 연산\n",
        "\n",
        "a = 3\n",
        "b = 4\n",
        "a+b\n"
      ],
      "execution_count": null,
      "outputs": [
        {
          "output_type": "execute_result",
          "data": {
            "text/plain": [
              "7"
            ]
          },
          "metadata": {},
          "execution_count": 4
        }
      ]
    },
    {
      "cell_type": "code",
      "metadata": {
        "colab": {
          "base_uri": "https://localhost:8080/"
        },
        "id": "bW7u9GL_PRtV",
        "outputId": "c930566f-1d6f-4ab5-e150-0cc8eba47da8"
      },
      "source": [
        "b%a  #몫은 버리고 나머지 취하는 연산자.. 홀수/짝수/배수"
      ],
      "execution_count": null,
      "outputs": [
        {
          "output_type": "execute_result",
          "data": {
            "text/plain": [
              "1"
            ]
          },
          "metadata": {},
          "execution_count": 5
        }
      ]
    },
    {
      "cell_type": "code",
      "metadata": {
        "colab": {
          "base_uri": "https://localhost:8080/"
        },
        "id": "SVEVCBLlPqCy",
        "outputId": "00ed2efe-adcb-4b9a-e324-dcc611c848e9"
      },
      "source": [
        "a == b"
      ],
      "execution_count": null,
      "outputs": [
        {
          "output_type": "execute_result",
          "data": {
            "text/plain": [
              "False"
            ]
          },
          "metadata": {},
          "execution_count": 6
        }
      ]
    },
    {
      "cell_type": "code",
      "metadata": {
        "colab": {
          "base_uri": "https://localhost:8080/",
          "height": 34
        },
        "id": "JSEeX1bsQUYF",
        "outputId": "9126b0fb-191a-41f4-d0f7-d68d59015409"
      },
      "source": [
        "#문자열 자료형 String\n",
        "\n",
        "a ='Hello world'\n",
        "a"
      ],
      "execution_count": null,
      "outputs": [
        {
          "output_type": "execute_result",
          "data": {
            "application/vnd.google.colaboratory.intrinsic+json": {
              "type": "string"
            },
            "text/plain": [
              "'Hello world'"
            ]
          },
          "metadata": {},
          "execution_count": 9
        }
      ]
    },
    {
      "cell_type": "code",
      "metadata": {
        "colab": {
          "base_uri": "https://localhost:8080/",
          "height": 34
        },
        "id": "HSGLRl0dQZHC",
        "outputId": "5f745459-1e6b-4ee7-bb7d-7debb000633e"
      },
      "source": [
        "a = 'Hello World'\n",
        "a"
      ],
      "execution_count": null,
      "outputs": [
        {
          "output_type": "execute_result",
          "data": {
            "application/vnd.google.colaboratory.intrinsic+json": {
              "type": "string"
            },
            "text/plain": [
              "'Hello World'"
            ]
          },
          "metadata": {},
          "execution_count": 10
        }
      ]
    },
    {
      "cell_type": "code",
      "metadata": {
        "colab": {
          "base_uri": "https://localhost:8080/",
          "height": 133
        },
        "id": "7ZY3eRqOQfu0",
        "outputId": "6b3564d1-1040-4024-91b8-6ef63a938129"
      },
      "source": [
        "a=\"Python's \"\n",
        "a\n",
        "\n",
        "a= 'Python's '\n",
        "a"
      ],
      "execution_count": null,
      "outputs": [
        {
          "output_type": "error",
          "ename": "SyntaxError",
          "evalue": "ignored",
          "traceback": [
            "\u001b[0;36m  File \u001b[0;32m\"<ipython-input-12-f8c1d34a9b86>\"\u001b[0;36m, line \u001b[0;32m4\u001b[0m\n\u001b[0;31m    a= 'Python's '\u001b[0m\n\u001b[0m               ^\u001b[0m\n\u001b[0;31mSyntaxError\u001b[0m\u001b[0;31m:\u001b[0m invalid syntax\n"
          ]
        }
      ]
    },
    {
      "cell_type": "code",
      "metadata": {
        "colab": {
          "base_uri": "https://localhost:8080/"
        },
        "id": "2O1OfvRzQ7cL",
        "outputId": "686117ca-848e-4cdb-cd29-a3dc92443201"
      },
      "source": [
        "a = '''\n",
        "Hello\n",
        "World\n",
        "!!\n",
        "'''\n",
        "\n",
        "print(a)"
      ],
      "execution_count": null,
      "outputs": [
        {
          "output_type": "stream",
          "name": "stdout",
          "text": [
            "\n",
            "Hello\n",
            "World\n",
            "!!\n",
            "\n"
          ]
        }
      ]
    },
    {
      "cell_type": "code",
      "metadata": {
        "colab": {
          "base_uri": "https://localhost:8080/"
        },
        "id": "u7NztUzcRf98",
        "outputId": "5519e51f-084c-4fd0-f806-b99b907e4ea3"
      },
      "source": [
        "a = 'Hello\\nWorld\\n!!'\n",
        "\n",
        "print(a)"
      ],
      "execution_count": null,
      "outputs": [
        {
          "output_type": "stream",
          "name": "stdout",
          "text": [
            "Hello\n",
            "World\n",
            "!!\n"
          ]
        }
      ]
    },
    {
      "cell_type": "code",
      "metadata": {
        "colab": {
          "base_uri": "https://localhost:8080/",
          "height": 139
        },
        "id": "4_VYKRYoR9Or",
        "outputId": "99d8667c-eadf-495c-d4aa-7e94925542e5"
      },
      "source": [
        "#리스트 자료형 \n",
        "\n",
        "# 홀수들의 합을 계산 a=1,b=3,c=5 .....\n",
        "# 리스트는 불편함을 해소 여러 개의 자료를 하나로 묶어 관리.\n",
        "\n",
        "z = [1,3,5,7,9]\n",
        "print(z)\n",
        "\n",
        "z= ['a','b','c']\n",
        "print(z)\n",
        "\n",
        "z = [ 1,2,'a','b']\n",
        "print(z)\n",
        "\n",
        "\n",
        "# 자료형에서 데이터를 꺼내 쓰는 방법\n",
        "# 인덱싱 - 한 개씩\n",
        "\n",
        "\n",
        "z[1]\n",
        "print(z[1])\n",
        "\n",
        "print(z[-1])\n",
        "\n",
        "\n",
        "# 슬라이싱 - 여러개를 한번에 ( ~미만)\n",
        "z[0:2] # 0부터 2미만까지\n",
        "z[:2] # 첨부터 2미만까지\n",
        "z[2:] # 2부터 끝까지\n",
        "z[:] #전부\n",
        "\n",
        "# 문자열\n",
        "\n",
        "a ='12345'\n",
        "print(a[2])\n",
        "a[1:4]"
      ],
      "execution_count": null,
      "outputs": [
        {
          "output_type": "stream",
          "name": "stdout",
          "text": [
            "[1, 3, 5, 7, 9]\n",
            "['a', 'b', 'c']\n",
            "[1, 2, 'a', 'b']\n",
            "2\n",
            "b\n",
            "3\n"
          ]
        },
        {
          "output_type": "execute_result",
          "data": {
            "application/vnd.google.colaboratory.intrinsic+json": {
              "type": "string"
            },
            "text/plain": [
              "'234'"
            ]
          },
          "metadata": {},
          "execution_count": 26
        }
      ]
    },
    {
      "cell_type": "code",
      "metadata": {
        "colab": {
          "base_uri": "https://localhost:8080/"
        },
        "id": "sxasce3ZVrxW",
        "outputId": "7b30a1b4-a1e5-4153-8087-d4f66f5c3da3"
      },
      "source": [
        "a=[1,2,3]\n",
        "b=[4,5,6]\n",
        "a+b"
      ],
      "execution_count": null,
      "outputs": [
        {
          "output_type": "execute_result",
          "data": {
            "text/plain": [
              "[1, 2, 3, 4, 5, 6]"
            ]
          },
          "metadata": {},
          "execution_count": 27
        }
      ]
    },
    {
      "cell_type": "code",
      "metadata": {
        "colab": {
          "base_uri": "https://localhost:8080/"
        },
        "id": "ffIEQnFtV2hJ",
        "outputId": "ffa86d55-32ea-4381-dc00-b5040ae69111"
      },
      "source": [
        "a =[1,2,3]\n",
        "a *3"
      ],
      "execution_count": null,
      "outputs": [
        {
          "output_type": "execute_result",
          "data": {
            "text/plain": [
              "[1, 2, 3, 1, 2, 3, 1, 2, 3]"
            ]
          },
          "metadata": {},
          "execution_count": 29
        }
      ]
    },
    {
      "cell_type": "code",
      "metadata": {
        "colab": {
          "base_uri": "https://localhost:8080/"
        },
        "id": "kOBUwtbyWB4n",
        "outputId": "503f4511-e138-44bc-ddb5-05b859f08317"
      },
      "source": [
        "a = [1,2,3]\n",
        "len(a)"
      ],
      "execution_count": null,
      "outputs": [
        {
          "output_type": "execute_result",
          "data": {
            "text/plain": [
              "3"
            ]
          },
          "metadata": {},
          "execution_count": 30
        }
      ]
    },
    {
      "cell_type": "code",
      "metadata": {
        "colab": {
          "base_uri": "https://localhost:8080/"
        },
        "id": "63IRDPcrWR5c",
        "outputId": "8268e21a-92ce-4e1a-882f-b2e92467cba2"
      },
      "source": [
        "#리스트에서는 수정과 삭제 가능하다. mutable (튜플은 수정과 삭제가 불가능. immutable)\n",
        "\n",
        "a= [1,2,3]\n",
        "a[2] = 4\n",
        "print(a[2])\n",
        "a"
      ],
      "execution_count": null,
      "outputs": [
        {
          "output_type": "stream",
          "name": "stdout",
          "text": [
            "4\n"
          ]
        },
        {
          "output_type": "execute_result",
          "data": {
            "text/plain": [
              "[1, 2, 4]"
            ]
          },
          "metadata": {},
          "execution_count": 32
        }
      ]
    },
    {
      "cell_type": "code",
      "metadata": {
        "colab": {
          "base_uri": "https://localhost:8080/"
        },
        "id": "ORV1IVgMXRAB",
        "outputId": "2a9ecfcb-a8cb-4b42-e74d-a1627dbd1aef"
      },
      "source": [
        "del a[1]\n",
        "a"
      ],
      "execution_count": null,
      "outputs": [
        {
          "output_type": "execute_result",
          "data": {
            "text/plain": [
              "[1, 4]"
            ]
          },
          "metadata": {},
          "execution_count": 33
        }
      ]
    },
    {
      "cell_type": "code",
      "metadata": {
        "colab": {
          "base_uri": "https://localhost:8080/"
        },
        "id": "9d4umbHyXevU",
        "outputId": "fa38c64a-c513-4734-dce7-aca0b1cf3eb5"
      },
      "source": [
        "# 리스트 관련 함수 정리\n",
        "# append  - 리스트의 마지막에 요소를 하나씩 추가 \n",
        "a= [1,2,3]\n",
        "a.append(4)\n",
        "a"
      ],
      "execution_count": null,
      "outputs": [
        {
          "output_type": "execute_result",
          "data": {
            "text/plain": [
              "[1, 2, 3, 4]"
            ]
          },
          "metadata": {},
          "execution_count": 34
        }
      ]
    },
    {
      "cell_type": "code",
      "metadata": {
        "colab": {
          "base_uri": "https://localhost:8080/"
        },
        "id": "wRz8DBpyYPzL",
        "outputId": "aeed666f-62cc-4476-ee03-1308a956f68c"
      },
      "source": [
        "a.append([5,6]) #하나로 취급\n",
        "a"
      ],
      "execution_count": null,
      "outputs": [
        {
          "output_type": "execute_result",
          "data": {
            "text/plain": [
              "[1, 2, 3, 4, [5, 6], [5, 6]]"
            ]
          },
          "metadata": {},
          "execution_count": 36
        }
      ]
    },
    {
      "cell_type": "code",
      "metadata": {
        "colab": {
          "base_uri": "https://localhost:8080/"
        },
        "id": "b9GtoJC5YqVU",
        "outputId": "aa50a72a-4b0e-475b-9c10-1cf32ab515c3"
      },
      "source": [
        "# sort - 리스트의 요소를 순서대로 정렬\n",
        "a = [1,7,3,5]\n",
        "a.sort()\n",
        "a"
      ],
      "execution_count": null,
      "outputs": [
        {
          "output_type": "execute_result",
          "data": {
            "text/plain": [
              "[1, 3, 5, 7]"
            ]
          },
          "metadata": {},
          "execution_count": 37
        }
      ]
    },
    {
      "cell_type": "code",
      "metadata": {
        "colab": {
          "base_uri": "https://localhost:8080/"
        },
        "id": "qWxD0qMWZC0P",
        "outputId": "d194965f-c6f0-4d74-d299-02136715a3bc"
      },
      "source": [
        "a = ['a','e','c','z']\n",
        "a.sort()\n",
        "a.reverse()  #역순\n",
        "a"
      ],
      "execution_count": null,
      "outputs": [
        {
          "output_type": "execute_result",
          "data": {
            "text/plain": [
              "['z', 'e', 'c', 'a']"
            ]
          },
          "metadata": {},
          "execution_count": 39
        }
      ]
    },
    {
      "cell_type": "code",
      "metadata": {
        "colab": {
          "base_uri": "https://localhost:8080/"
        },
        "id": "1SI1Q9VbZXNN",
        "outputId": "015a65ad-f997-4954-cf06-72583dd84545"
      },
      "source": [
        "# index 위치값을 반환\n",
        "print(a.index('a'))\n"
      ],
      "execution_count": null,
      "outputs": [
        {
          "output_type": "stream",
          "name": "stdout",
          "text": [
            "3\n"
          ]
        }
      ]
    },
    {
      "cell_type": "code",
      "metadata": {
        "colab": {
          "base_uri": "https://localhost:8080/"
        },
        "id": "rAiaF_JlZuE_",
        "outputId": "9c9ef74d-e2ed-4090-e81f-3687275bd6f5"
      },
      "source": [
        "# insert 리스트의 특정위치에 삽입\n",
        "a = [1,2,3]\n",
        "a.insert(0,4)\n",
        "a"
      ],
      "execution_count": null,
      "outputs": [
        {
          "output_type": "execute_result",
          "data": {
            "text/plain": [
              "[4, 1, 2, 3]"
            ]
          },
          "metadata": {},
          "execution_count": 186
        }
      ]
    },
    {
      "cell_type": "code",
      "metadata": {
        "colab": {
          "base_uri": "https://localhost:8080/"
        },
        "id": "6FrWSL8qZ920",
        "outputId": "a6761d8a-4c3c-4369-d57f-b99f3e7a375c"
      },
      "source": [
        "#remove 리스트의 첫번째로 나오는 값을 삭제\n",
        "\n",
        "a = [1,3,4,1,2,4]   \n",
        "a.remove(4)  #첫번째 4 삭제\n",
        "a"
      ],
      "execution_count": null,
      "outputs": [
        {
          "output_type": "execute_result",
          "data": {
            "text/plain": [
              "[1, 3, 1, 2, 4]"
            ]
          },
          "metadata": {},
          "execution_count": 44
        }
      ]
    },
    {
      "cell_type": "code",
      "metadata": {
        "colab": {
          "base_uri": "https://localhost:8080/"
        },
        "id": "Lakc__TGaNaf",
        "outputId": "c8bb7463-5b8f-407d-f5e3-2062ad730af7"
      },
      "source": [
        "# pop 끝에 위치한 항목을 삭제하고 그 값을 반환\n",
        "\n",
        "a= [1,2,3]\n",
        "print(a.pop())\n",
        "a.pop()\n",
        "a"
      ],
      "execution_count": null,
      "outputs": [
        {
          "output_type": "stream",
          "name": "stdout",
          "text": [
            "3\n"
          ]
        },
        {
          "output_type": "execute_result",
          "data": {
            "text/plain": [
              "[1]"
            ]
          },
          "metadata": {},
          "execution_count": 49
        }
      ]
    },
    {
      "cell_type": "code",
      "metadata": {
        "colab": {
          "base_uri": "https://localhost:8080/"
        },
        "id": "aNJ4-3ogacOH",
        "outputId": "35c78633-d578-47d6-86a9-ea9264d30634"
      },
      "source": [
        "# count 리스트에서 특정원소가 몇개 있는지 확인\n",
        "\n",
        "a=[1,2,3,1]\n",
        "print(a.count(1))\n"
      ],
      "execution_count": null,
      "outputs": [
        {
          "output_type": "stream",
          "name": "stdout",
          "text": [
            "2\n"
          ]
        }
      ]
    },
    {
      "cell_type": "code",
      "metadata": {
        "colab": {
          "base_uri": "https://localhost:8080/"
        },
        "id": "WW1QGLkxar3R",
        "outputId": "4c874593-ddf2-4804-a5f4-4192a1b9c149"
      },
      "source": [
        "# extend 리스트에 리스트를 더한다.\n",
        "a = [1,2,3]\n",
        "a.extend([4])\n",
        "a"
      ],
      "execution_count": null,
      "outputs": [
        {
          "output_type": "execute_result",
          "data": {
            "text/plain": [
              "[1, 2, 3, 4]"
            ]
          },
          "metadata": {},
          "execution_count": 188
        }
      ]
    },
    {
      "cell_type": "code",
      "metadata": {
        "id": "fq910OWXrdwz"
      },
      "source": [
        "#튜플 .... (튜플은 수정과 삭제가 불가능하다.. immutable)\n",
        "\n",
        "#튜플은 리스트와 거의 비슷하다.. 차이점은\n",
        "# 1. 리스트는 []  튜플은 ()\n",
        "# 2. 리스트는 수정/삭제 가능 튜플 수정/삭제 불가능\n",
        "# 튜플은 프로그램 실행되는 동안 그 값이 항상 변하지 않기를 바란다거나 값이 바뀔까 \n",
        "# 걱정하고 싶지 않을 때 튜플을 사용한다."
      ],
      "execution_count": null,
      "outputs": []
    },
    {
      "cell_type": "code",
      "metadata": {
        "colab": {
          "base_uri": "https://localhost:8080/"
        },
        "id": "9VYtPAITtDDa",
        "outputId": "3a0c24ea-04b0-42f4-b8ae-8d3ff3530d00"
      },
      "source": [
        "t1 = ()\n",
        "t1 = (1,) #튜플은 원소를 하나만 담을 때는 쉼표를 붙인다. 튜플은 괄호 생략 가능하다.\n",
        "\n",
        "\n",
        "\n",
        "\n",
        "print(t1)"
      ],
      "execution_count": null,
      "outputs": [
        {
          "output_type": "stream",
          "name": "stdout",
          "text": [
            "(1,)\n"
          ]
        }
      ]
    },
    {
      "cell_type": "code",
      "metadata": {
        "colab": {
          "base_uri": "https://localhost:8080/",
          "height": 186
        },
        "id": "5VJrCvwnuU2d",
        "outputId": "52b17143-89e4-4198-f95e-2ec6b2a6c085"
      },
      "source": [
        "t1 = (1,2,'a','b')\n",
        "del t1[1]"
      ],
      "execution_count": null,
      "outputs": [
        {
          "output_type": "error",
          "ename": "TypeError",
          "evalue": "ignored",
          "traceback": [
            "\u001b[0;31m---------------------------------------------------------------------------\u001b[0m",
            "\u001b[0;31mTypeError\u001b[0m                                 Traceback (most recent call last)",
            "\u001b[0;32m<ipython-input-54-6b7cf4ba94b6>\u001b[0m in \u001b[0;36m<module>\u001b[0;34m()\u001b[0m\n\u001b[1;32m      1\u001b[0m \u001b[0mt1\u001b[0m \u001b[0;34m=\u001b[0m \u001b[0;34m(\u001b[0m\u001b[0;36m1\u001b[0m\u001b[0;34m,\u001b[0m\u001b[0;36m2\u001b[0m\u001b[0;34m,\u001b[0m\u001b[0;34m'a'\u001b[0m\u001b[0;34m,\u001b[0m\u001b[0;34m'b'\u001b[0m\u001b[0;34m)\u001b[0m\u001b[0;34m\u001b[0m\u001b[0;34m\u001b[0m\u001b[0m\n\u001b[0;32m----> 2\u001b[0;31m \u001b[0;32mdel\u001b[0m \u001b[0mt1\u001b[0m\u001b[0;34m[\u001b[0m\u001b[0;36m1\u001b[0m\u001b[0;34m]\u001b[0m\u001b[0;34m\u001b[0m\u001b[0;34m\u001b[0m\u001b[0m\n\u001b[0m",
            "\u001b[0;31mTypeError\u001b[0m: 'tuple' object doesn't support item deletion"
          ]
        }
      ]
    },
    {
      "cell_type": "code",
      "metadata": {
        "colab": {
          "base_uri": "https://localhost:8080/",
          "height": 186
        },
        "id": "RP1bUy6uueti",
        "outputId": "d1f51796-1322-45ae-f67d-392d73acf230"
      },
      "source": [
        "t1 = (1,2,'a','b')\n",
        "t1[0] = 'c'"
      ],
      "execution_count": null,
      "outputs": [
        {
          "output_type": "error",
          "ename": "TypeError",
          "evalue": "ignored",
          "traceback": [
            "\u001b[0;31m---------------------------------------------------------------------------\u001b[0m",
            "\u001b[0;31mTypeError\u001b[0m                                 Traceback (most recent call last)",
            "\u001b[0;32m<ipython-input-55-54d925f8271e>\u001b[0m in \u001b[0;36m<module>\u001b[0;34m()\u001b[0m\n\u001b[1;32m      1\u001b[0m \u001b[0mt1\u001b[0m \u001b[0;34m=\u001b[0m \u001b[0;34m(\u001b[0m\u001b[0;36m1\u001b[0m\u001b[0;34m,\u001b[0m\u001b[0;36m2\u001b[0m\u001b[0;34m,\u001b[0m\u001b[0;34m'a'\u001b[0m\u001b[0;34m,\u001b[0m\u001b[0;34m'b'\u001b[0m\u001b[0;34m)\u001b[0m\u001b[0;34m\u001b[0m\u001b[0;34m\u001b[0m\u001b[0m\n\u001b[0;32m----> 2\u001b[0;31m \u001b[0mt1\u001b[0m\u001b[0;34m[\u001b[0m\u001b[0;36m0\u001b[0m\u001b[0;34m]\u001b[0m \u001b[0;34m=\u001b[0m \u001b[0;34m'c'\u001b[0m\u001b[0;34m\u001b[0m\u001b[0;34m\u001b[0m\u001b[0m\n\u001b[0m",
            "\u001b[0;31mTypeError\u001b[0m: 'tuple' object does not support item assignment"
          ]
        }
      ]
    },
    {
      "cell_type": "code",
      "metadata": {
        "colab": {
          "base_uri": "https://localhost:8080/"
        },
        "id": "86cYw1_xurhk",
        "outputId": "3302f81d-2076-474a-d37c-37359659dd34"
      },
      "source": [
        "# 튜플에서 인덱싱\n",
        "t1 = (1,2,'a','b')\n",
        "t1[0]\n"
      ],
      "execution_count": null,
      "outputs": [
        {
          "output_type": "execute_result",
          "data": {
            "text/plain": [
              "1"
            ]
          },
          "metadata": {},
          "execution_count": 56
        }
      ]
    },
    {
      "cell_type": "code",
      "metadata": {
        "colab": {
          "base_uri": "https://localhost:8080/"
        },
        "id": "00pY7e9vvI2N",
        "outputId": "584228d8-50fb-4d89-ce14-70f9f424f3cb"
      },
      "source": [
        "# 튜플에서의 슬라이싱\n",
        "\n",
        "t1 = (1,2,'a','b')\n",
        "t1[1:]"
      ],
      "execution_count": null,
      "outputs": [
        {
          "output_type": "execute_result",
          "data": {
            "text/plain": [
              "(2, 'a', 'b')"
            ]
          },
          "metadata": {},
          "execution_count": 57
        }
      ]
    },
    {
      "cell_type": "code",
      "metadata": {
        "colab": {
          "base_uri": "https://localhost:8080/"
        },
        "id": "P-nzuT53vWUr",
        "outputId": "3f9e4f59-2c16-4444-c248-c3a47894ad3f"
      },
      "source": [
        "t1 = (1,2,'a','b')\n",
        "\n",
        "t2 = (3,4)\n",
        "\n",
        "t1+t2"
      ],
      "execution_count": null,
      "outputs": [
        {
          "output_type": "execute_result",
          "data": {
            "text/plain": [
              "(1, 2, 'a', 'b', 3, 4)"
            ]
          },
          "metadata": {},
          "execution_count": 58
        }
      ]
    },
    {
      "cell_type": "code",
      "metadata": {
        "colab": {
          "base_uri": "https://localhost:8080/"
        },
        "id": "yhLYR3FSvcBf",
        "outputId": "e70d0e03-0979-4317-9f18-9fe5cf237c30"
      },
      "source": [
        "t2= (3,4)\n",
        "t2*3"
      ],
      "execution_count": null,
      "outputs": [
        {
          "output_type": "execute_result",
          "data": {
            "text/plain": [
              "(3, 4, 3, 4, 3, 4)"
            ]
          },
          "metadata": {},
          "execution_count": 59
        }
      ]
    },
    {
      "cell_type": "code",
      "metadata": {
        "colab": {
          "base_uri": "https://localhost:8080/"
        },
        "id": "VRNDVW6zvi9K",
        "outputId": "b2ae682e-303a-42cd-9d9f-ecef24f102ca"
      },
      "source": [
        "len(t1)"
      ],
      "execution_count": null,
      "outputs": [
        {
          "output_type": "execute_result",
          "data": {
            "text/plain": [
              "4"
            ]
          },
          "metadata": {},
          "execution_count": 60
        }
      ]
    },
    {
      "cell_type": "markdown",
      "metadata": {
        "id": "1QA6BeMYwL_D"
      },
      "source": [
        "딕셔너리..\n",
        "이름 = 홍길동, 나이 =15, 성별 =남자, 대응관계를 나타낼 수 있는 자료형 다른 언어에서는 map,hash...\n",
        "키값과 밸류 값으로 구성한다.\n",
        "\n",
        "1.딕셔너리는 인덱싱과 슬라이싱 불가능\n",
        "2.수정, 편집 가능 mutable \n",
        "3. 중괄호 {}"
      ]
    },
    {
      "cell_type": "code",
      "metadata": {
        "colab": {
          "base_uri": "https://localhost:8080/"
        },
        "id": "c-_YiDJrxA8f",
        "outputId": "a727af6b-fd81-4bc7-c483-26422247d3e8"
      },
      "source": [
        "dic = {'name':'pey', 'pohne':'01066452753', 'birth':'0202'}\n",
        "\n",
        "print(dic)"
      ],
      "execution_count": null,
      "outputs": [
        {
          "output_type": "stream",
          "name": "stdout",
          "text": [
            "{'name': 'pey', 'pohne': '01066452753', 'birth': '0202'}\n"
          ]
        }
      ]
    },
    {
      "cell_type": "code",
      "metadata": {
        "colab": {
          "base_uri": "https://localhost:8080/"
        },
        "id": "B6W8C3t_xh1G",
        "outputId": "98f50afa-c061-4416-f80b-b7f399664287"
      },
      "source": [
        "a = { 'b': [1,2,3]}\n",
        "a"
      ],
      "execution_count": null,
      "outputs": [
        {
          "output_type": "execute_result",
          "data": {
            "text/plain": [
              "{'b': [1, 2, 3]}"
            ]
          },
          "metadata": {},
          "execution_count": 65
        }
      ]
    },
    {
      "cell_type": "code",
      "metadata": {
        "colab": {
          "base_uri": "https://localhost:8080/"
        },
        "id": "2BeP8VZfx2do",
        "outputId": "fce4fa68-3ed4-4257-921f-29e041bf247f"
      },
      "source": [
        "a = { 1: 'a'}\n",
        "a"
      ],
      "execution_count": null,
      "outputs": [
        {
          "output_type": "execute_result",
          "data": {
            "text/plain": [
              "{1: 'a'}"
            ]
          },
          "metadata": {},
          "execution_count": 193
        }
      ]
    },
    {
      "cell_type": "code",
      "metadata": {
        "colab": {
          "base_uri": "https://localhost:8080/"
        },
        "id": "uxyeQeB8x5j-",
        "outputId": "26b5761c-8706-4dfe-ede9-d1313b9b41ed"
      },
      "source": [
        "\n",
        "a[5]= 'b'\n",
        "a"
      ],
      "execution_count": null,
      "outputs": [
        {
          "output_type": "execute_result",
          "data": {
            "text/plain": [
              "{1: 'a', 5: 'b'}"
            ]
          },
          "metadata": {},
          "execution_count": 194
        }
      ]
    },
    {
      "cell_type": "code",
      "metadata": {
        "colab": {
          "base_uri": "https://localhost:8080/"
        },
        "id": "gKmTmsahyDjf",
        "outputId": "64996571-2796-4d3f-f2d2-bef3ec824c6d"
      },
      "source": [
        "a['name'] = 'pey'\n",
        "a\n"
      ],
      "execution_count": null,
      "outputs": [
        {
          "output_type": "execute_result",
          "data": {
            "text/plain": [
              "{1: 'a', 5: 'b', 'name': 'pey'}"
            ]
          },
          "metadata": {},
          "execution_count": 68
        }
      ]
    },
    {
      "cell_type": "code",
      "metadata": {
        "colab": {
          "base_uri": "https://localhost:8080/"
        },
        "id": "KivISpQByTbo",
        "outputId": "d05290cd-934b-4158-c881-3ebd5ffe47e9"
      },
      "source": [
        "#딕셔너리 요소 삭제\n",
        "\n",
        "del a[1]\n",
        "a"
      ],
      "execution_count": null,
      "outputs": [
        {
          "output_type": "execute_result",
          "data": {
            "text/plain": [
              "{5: 'b', 'name': 'pey'}"
            ]
          },
          "metadata": {},
          "execution_count": 71
        }
      ]
    },
    {
      "cell_type": "code",
      "metadata": {
        "colab": {
          "base_uri": "https://localhost:8080/"
        },
        "id": "IQL7tJfpyh4B",
        "outputId": "0bddb274-8c51-4552-f3da-eb1eb63e650a"
      },
      "source": [
        "#딕셔너리로 key값을 이용해서 value값 가져오기\n",
        "\n",
        "grade = {'pey' : 10, 'juliet' : 9}\n",
        "grade['pey']\n"
      ],
      "execution_count": null,
      "outputs": [
        {
          "output_type": "execute_result",
          "data": {
            "text/plain": [
              "10"
            ]
          },
          "metadata": {},
          "execution_count": 73
        }
      ]
    },
    {
      "cell_type": "code",
      "metadata": {
        "colab": {
          "base_uri": "https://localhost:8080/"
        },
        "id": "eMOSx6pBzOeX",
        "outputId": "b0a5799e-0d61-44f1-e2ef-b708daf4c5de"
      },
      "source": [
        "# 딕셔너리 사용시 주의사항 ..\n",
        "# 1. key값이 고유한 값을 사용하기 때문에 중복되는 키값을 설정하면\n",
        "#하나를 제외한 모든 것들은 무시된다..\n",
        "\n",
        "a = {1: 'a', 1:'b'}\n",
        "a"
      ],
      "execution_count": null,
      "outputs": [
        {
          "output_type": "execute_result",
          "data": {
            "text/plain": [
              "{1: 'b'}"
            ]
          },
          "metadata": {},
          "execution_count": 74
        }
      ]
    },
    {
      "cell_type": "code",
      "metadata": {
        "colab": {
          "base_uri": "https://localhost:8080/",
          "height": 239
        },
        "id": "MfippgY1z1Br",
        "outputId": "af2da29e-c988-4b2f-aef7-90609342a70f"
      },
      "source": [
        "#2. key값에 리스트는 사용할 수 없다. Tuple은 키값으로 사용할 수 있다.\n",
        "#   리스트는 그 값이 변할 수 있기 때문에 key로 쓸 수 없다. tuple은 고정값이라 가능\n",
        "a = {[1,2] : 'hi'}\n"
      ],
      "execution_count": null,
      "outputs": [
        {
          "output_type": "error",
          "ename": "TypeError",
          "evalue": "ignored",
          "traceback": [
            "\u001b[0;31m---------------------------------------------------------------------------\u001b[0m",
            "\u001b[0;31mTypeError\u001b[0m                                 Traceback (most recent call last)",
            "\u001b[0;32m<ipython-input-76-6a6a2b12b464>\u001b[0m in \u001b[0;36m<module>\u001b[0;34m()\u001b[0m\n\u001b[1;32m      1\u001b[0m \u001b[0;31m#2. key값에 리스트는 사용할 수 없다. Tuple은 키값으로 사용할 수 있다.\u001b[0m\u001b[0;34m\u001b[0m\u001b[0;34m\u001b[0m\u001b[0;34m\u001b[0m\u001b[0m\n\u001b[1;32m      2\u001b[0m \u001b[0;31m#   리스트는 그 값이 변할 수 있기 때문에 key로 쓸 수 없다. tuple은 고정값이라 가능\u001b[0m\u001b[0;34m\u001b[0m\u001b[0;34m\u001b[0m\u001b[0;34m\u001b[0m\u001b[0m\n\u001b[0;32m----> 3\u001b[0;31m \u001b[0ma\u001b[0m \u001b[0;34m=\u001b[0m \u001b[0;34m{\u001b[0m\u001b[0;34m[\u001b[0m\u001b[0;36m1\u001b[0m\u001b[0;34m,\u001b[0m\u001b[0;36m2\u001b[0m\u001b[0;34m]\u001b[0m \u001b[0;34m:\u001b[0m \u001b[0;34m'hi'\u001b[0m\u001b[0;34m}\u001b[0m\u001b[0;34m\u001b[0m\u001b[0;34m\u001b[0m\u001b[0m\n\u001b[0m\u001b[1;32m      4\u001b[0m \u001b[0ma\u001b[0m \u001b[0;34m=\u001b[0m \u001b[0;34m{\u001b[0m\u001b[0;34m(\u001b[0m\u001b[0;36m1\u001b[0m\u001b[0;34m,\u001b[0m\u001b[0;36m2\u001b[0m\u001b[0;34m)\u001b[0m \u001b[0;34m:\u001b[0m \u001b[0;34m'hi'\u001b[0m\u001b[0;34m}\u001b[0m\u001b[0;34m\u001b[0m\u001b[0;34m\u001b[0m\u001b[0m\n",
            "\u001b[0;31mTypeError\u001b[0m: unhashable type: 'list'"
          ]
        }
      ]
    },
    {
      "cell_type": "code",
      "metadata": {
        "id": "vhMsxViU0rdI"
      },
      "source": [
        "b = {(1,2) : 'hi'}"
      ],
      "execution_count": null,
      "outputs": []
    },
    {
      "cell_type": "code",
      "metadata": {
        "colab": {
          "base_uri": "https://localhost:8080/"
        },
        "id": "f2leKWCo0sgB",
        "outputId": "8e0e4652-4a82-488b-a7ab-0eb3a34950d8"
      },
      "source": [
        "# 딕셔너리에서 많이 사용되는 함수들\n",
        "# keys\n",
        "\n",
        "a = {1 : 'a', 2:'b',3:'c'}\n",
        "a.keys()"
      ],
      "execution_count": null,
      "outputs": [
        {
          "output_type": "execute_result",
          "data": {
            "text/plain": [
              "dict_keys([1, 2, 3])"
            ]
          },
          "metadata": {},
          "execution_count": 79
        }
      ]
    },
    {
      "cell_type": "code",
      "metadata": {
        "colab": {
          "base_uri": "https://localhost:8080/"
        },
        "id": "ADQ2ZqpM1EsF",
        "outputId": "3d0773bf-4400-4305-81b6-a41761b589ad"
      },
      "source": [
        "#values\n",
        "a = {1:'a',2:'b',3:'c'}\n",
        "a.items()"
      ],
      "execution_count": null,
      "outputs": [
        {
          "output_type": "execute_result",
          "data": {
            "text/plain": [
              "dict_items([(1, 'a'), (2, 'b'), (3, 'c')])"
            ]
          },
          "metadata": {},
          "execution_count": 82
        }
      ]
    },
    {
      "cell_type": "code",
      "metadata": {
        "colab": {
          "base_uri": "https://localhost:8080/"
        },
        "id": "rHj_gIhQ1igk",
        "outputId": "1d3c5d55-739c-421c-e7f7-a298e48f6e4e"
      },
      "source": [
        "a = {1:'a',2:'b',3:'c'}\n",
        "a.clear()\n",
        "a"
      ],
      "execution_count": null,
      "outputs": [
        {
          "output_type": "execute_result",
          "data": {
            "text/plain": [
              "{}"
            ]
          },
          "metadata": {},
          "execution_count": 83
        }
      ]
    },
    {
      "cell_type": "code",
      "metadata": {
        "colab": {
          "base_uri": "https://localhost:8080/"
        },
        "id": "zLcLf5n71qoq",
        "outputId": "0ae31fec-4b9c-41d3-a5f6-5c1f595549d7"
      },
      "source": [
        "#in\n",
        "\n",
        "\n",
        "a = {1:'a',2:'b',3:'c'}\n",
        "1 in a"
      ],
      "execution_count": null,
      "outputs": [
        {
          "output_type": "execute_result",
          "data": {
            "text/plain": [
              "True"
            ]
          },
          "metadata": {},
          "execution_count": 84
        }
      ]
    },
    {
      "cell_type": "code",
      "metadata": {
        "colab": {
          "base_uri": "https://localhost:8080/"
        },
        "id": "aWChf96r5XPR",
        "outputId": "97690346-6c22-4f6a-cd65-3f286925207b"
      },
      "source": [
        "# Set (집합)\n",
        "# 중복을 허용하지 않는다..\n",
        "# 순서가 없다. (인덱싱, 슬라이싱 불가능)\n",
        "# 리스트나 튜플은 순서가 있기 때문에 ordered 인덱싱을 통해 값을 얻을 수 있다.\n",
        "# Set은 순서가 없기 때문에 인덱싱으로 값을 얻을 수 없다..\n",
        "# 중복을 허용하지 않는 set의 특징으로 자료형의 중복을 제거하기 위한 필터 역할로 사용된다.\n",
        "\n",
        "\n",
        "s1 = set([1,2,3])\n",
        "s1"
      ],
      "execution_count": null,
      "outputs": [
        {
          "output_type": "execute_result",
          "data": {
            "text/plain": [
              "{1, 2, 3}"
            ]
          },
          "metadata": {},
          "execution_count": 85
        }
      ]
    },
    {
      "cell_type": "code",
      "metadata": {
        "colab": {
          "base_uri": "https://localhost:8080/"
        },
        "id": "G0Q_AQ9e5c7S",
        "outputId": "37578306-05fd-443f-c7ca-c413f9e8b7cf"
      },
      "source": [
        "s2 = set(\"Hello\")\n",
        "s2"
      ],
      "execution_count": null,
      "outputs": [
        {
          "output_type": "execute_result",
          "data": {
            "text/plain": [
              "{'H', 'e', 'l', 'o'}"
            ]
          },
          "metadata": {},
          "execution_count": 87
        }
      ]
    },
    {
      "cell_type": "code",
      "metadata": {
        "colab": {
          "base_uri": "https://localhost:8080/"
        },
        "id": "GvoO2ddb5eX7",
        "outputId": "4e4981ef-10e0-4ff9-9d19-a06b876df742"
      },
      "source": [
        "l1 = list(s1)\n",
        "l1\n",
        "l2= list(s2)\n",
        "type(l2)\n",
        "l2"
      ],
      "execution_count": null,
      "outputs": [
        {
          "output_type": "execute_result",
          "data": {
            "text/plain": [
              "['H', 'l', 'o', 'e']"
            ]
          },
          "metadata": {},
          "execution_count": 92
        }
      ]
    },
    {
      "cell_type": "code",
      "metadata": {
        "colab": {
          "base_uri": "https://localhost:8080/"
        },
        "id": "wG5fBhEE7YJY",
        "outputId": "6f16210b-158d-4905-e66c-8f3857121bd3"
      },
      "source": [
        "# 교집합 합집합 차집합\n",
        "\n",
        "s1 = set([1,2,3,4,5,6])\n",
        "s2 = set([4,5,6,7,8,9])\n",
        "\n",
        "#1 교집합\n",
        "s1 & s2"
      ],
      "execution_count": null,
      "outputs": [
        {
          "output_type": "execute_result",
          "data": {
            "text/plain": [
              "{4, 5, 6}"
            ]
          },
          "metadata": {},
          "execution_count": 94
        }
      ]
    },
    {
      "cell_type": "code",
      "metadata": {
        "colab": {
          "base_uri": "https://localhost:8080/"
        },
        "id": "VLncXq-87ut6",
        "outputId": "f2a49b4b-bc3c-4a1e-cc95-613f23482a29"
      },
      "source": [
        "s1.intersection(s2)\n"
      ],
      "execution_count": null,
      "outputs": [
        {
          "output_type": "execute_result",
          "data": {
            "text/plain": [
              "{4, 5, 6}"
            ]
          },
          "metadata": {},
          "execution_count": 95
        }
      ]
    },
    {
      "cell_type": "code",
      "metadata": {
        "colab": {
          "base_uri": "https://localhost:8080/"
        },
        "id": "ANTfMAod7yO7",
        "outputId": "7214374d-21bb-4a82-8e01-60ddac8a656a"
      },
      "source": [
        "#2 합집합\n",
        "s1 | s2"
      ],
      "execution_count": null,
      "outputs": [
        {
          "output_type": "execute_result",
          "data": {
            "text/plain": [
              "{1, 2, 3, 4, 5, 6, 7, 8, 9}"
            ]
          },
          "metadata": {},
          "execution_count": 96
        }
      ]
    },
    {
      "cell_type": "code",
      "metadata": {
        "colab": {
          "base_uri": "https://localhost:8080/"
        },
        "id": "Xb_gi1sV77nG",
        "outputId": "ddf828c7-e172-4c2b-bb39-b578c9b5693c"
      },
      "source": [
        "s1.union(s2)"
      ],
      "execution_count": null,
      "outputs": [
        {
          "output_type": "execute_result",
          "data": {
            "text/plain": [
              "{1, 2, 3, 4, 5, 6, 7, 8, 9}"
            ]
          },
          "metadata": {},
          "execution_count": 97
        }
      ]
    },
    {
      "cell_type": "code",
      "metadata": {
        "colab": {
          "base_uri": "https://localhost:8080/"
        },
        "id": "4eC8Dwse8IWh",
        "outputId": "41e7a6a1-6561-49bd-bfb8-c3c8cb433876"
      },
      "source": [
        "#3. 차집합\n",
        "s1-s2"
      ],
      "execution_count": null,
      "outputs": [
        {
          "output_type": "execute_result",
          "data": {
            "text/plain": [
              "{1, 2, 3}"
            ]
          },
          "metadata": {},
          "execution_count": 98
        }
      ]
    },
    {
      "cell_type": "code",
      "metadata": {
        "colab": {
          "base_uri": "https://localhost:8080/"
        },
        "id": "RI7G0lch8c5R",
        "outputId": "70f29769-cc64-4aeb-d1a0-acfbcf8631d6"
      },
      "source": [
        "s2-s1"
      ],
      "execution_count": null,
      "outputs": [
        {
          "output_type": "execute_result",
          "data": {
            "text/plain": [
              "{7, 8, 9}"
            ]
          },
          "metadata": {},
          "execution_count": 99
        }
      ]
    },
    {
      "cell_type": "code",
      "metadata": {
        "colab": {
          "base_uri": "https://localhost:8080/"
        },
        "id": "F7S_nH238lDg",
        "outputId": "40213bdc-d20f-4d19-c57f-1dcce20a261d"
      },
      "source": [
        "# 집합관련 함수들...\n",
        "\n",
        "#add 1개 추가\n",
        "s1 = set([1,2,3])\n",
        "s1.add(4)\n",
        "s1"
      ],
      "execution_count": null,
      "outputs": [
        {
          "output_type": "execute_result",
          "data": {
            "text/plain": [
              "{1, 2, 3, 4}"
            ]
          },
          "metadata": {},
          "execution_count": 196
        }
      ]
    },
    {
      "cell_type": "code",
      "metadata": {
        "colab": {
          "base_uri": "https://localhost:8080/"
        },
        "id": "93KiiyQR8-Qw",
        "outputId": "46b11903-1a9e-415d-c1ff-0379267f0158"
      },
      "source": [
        "#update 여러개 추가...\n",
        "s1 = set([1,2,3])\n",
        "s1.update([4,5,6])\n",
        "s1"
      ],
      "execution_count": null,
      "outputs": [
        {
          "output_type": "execute_result",
          "data": {
            "text/plain": [
              "{1, 2, 3, 4, 5, 6}"
            ]
          },
          "metadata": {},
          "execution_count": 102
        }
      ]
    },
    {
      "cell_type": "code",
      "metadata": {
        "colab": {
          "base_uri": "https://localhost:8080/"
        },
        "id": "3GM1p5v-9VQf",
        "outputId": "50ca7077-bb19-416a-87a7-8960c37fd2d8"
      },
      "source": [
        "#remove 특정값 제거\n",
        "s1 = set([1,2,3])\n",
        "s1.remove(2)\n",
        "s1"
      ],
      "execution_count": null,
      "outputs": [
        {
          "output_type": "execute_result",
          "data": {
            "text/plain": [
              "{1, 3}"
            ]
          },
          "metadata": {},
          "execution_count": 103
        }
      ]
    },
    {
      "cell_type": "code",
      "metadata": {
        "colab": {
          "base_uri": "https://localhost:8080/"
        },
        "id": "WWh46x8_9rd5",
        "outputId": "453475be-a445-42b9-ce31-c7ae76c852f2"
      },
      "source": [
        "# Bool 자료형 boolean 참과 거짓\n",
        "\n",
        "a= True\n",
        "b = False\n",
        "type(a)"
      ],
      "execution_count": null,
      "outputs": [
        {
          "output_type": "execute_result",
          "data": {
            "text/plain": [
              "bool"
            ]
          },
          "metadata": {},
          "execution_count": 104
        }
      ]
    },
    {
      "cell_type": "code",
      "metadata": {
        "colab": {
          "base_uri": "https://localhost:8080/"
        },
        "id": "dYSRu5Va-RuL",
        "outputId": "9b227897-1a30-4830-de39-70bdea096aad"
      },
      "source": [
        "a == b"
      ],
      "execution_count": null,
      "outputs": [
        {
          "output_type": "execute_result",
          "data": {
            "text/plain": [
              "False"
            ]
          },
          "metadata": {},
          "execution_count": 105
        }
      ]
    },
    {
      "cell_type": "code",
      "metadata": {
        "id": "Oz_MbLMI-Wbf"
      },
      "source": [
        "a !=b"
      ],
      "execution_count": null,
      "outputs": []
    },
    {
      "cell_type": "code",
      "metadata": {
        "colab": {
          "base_uri": "https://localhost:8080/"
        },
        "id": "rL9gNQ22-elp",
        "outputId": "4af837d8-8f7e-44b7-9aa7-c978469d9111"
      },
      "source": [
        "\"\",[],(),{},None,0   #거짓\n"
      ],
      "execution_count": null,
      "outputs": [
        {
          "output_type": "execute_result",
          "data": {
            "text/plain": [
              "('', [], (), {}, None, 0)"
            ]
          },
          "metadata": {},
          "execution_count": 108
        }
      ]
    },
    {
      "cell_type": "code",
      "metadata": {
        "id": "4goAdOyu_GvJ"
      },
      "source": [
        ""
      ],
      "execution_count": null,
      "outputs": []
    },
    {
      "cell_type": "code",
      "metadata": {
        "colab": {
          "base_uri": "https://localhost:8080/"
        },
        "id": "j9noeUbW_G2w",
        "outputId": "ab164a34-76ce-4de1-a937-4512f01aeec1"
      },
      "source": [
        "a =[1,2,3,4]\n",
        "while a:\n",
        "  print(a.pop())"
      ],
      "execution_count": null,
      "outputs": [
        {
          "output_type": "stream",
          "name": "stdout",
          "text": [
            "4\n",
            "3\n",
            "2\n",
            "1\n"
          ]
        }
      ]
    },
    {
      "cell_type": "code",
      "metadata": {
        "colab": {
          "base_uri": "https://localhost:8080/"
        },
        "id": "Beezf2Ej_xw6",
        "outputId": "31ea8885-bac7-4072-f83e-ea7e3809006b"
      },
      "source": [
        "if[1,2,3] :\n",
        "  print('참')\n",
        "else:\n",
        "  print('거짓')"
      ],
      "execution_count": null,
      "outputs": [
        {
          "output_type": "stream",
          "name": "stdout",
          "text": [
            "참\n"
          ]
        }
      ]
    },
    {
      "cell_type": "code",
      "metadata": {
        "id": "TQu1cYogAYKH"
      },
      "source": [
        "# 자료형 총정리\n",
        "# 가장 기본이 되는 자료형 숫자, 문자열, 리스트, 튜플, 딕셔너리, 집합, 불...\n",
        "# 여기까지 50% .. 그만큼 중요하다"
      ],
      "execution_count": null,
      "outputs": []
    },
    {
      "cell_type": "code",
      "metadata": {
        "colab": {
          "base_uri": "https://localhost:8080/"
        },
        "id": "ZXARlllQA6Qn",
        "outputId": "27b36051-b45d-4b22-d86b-307c5740fe00"
      },
      "source": [
        "#변수 어떤 값이 들어가 있는 메모리의 위치를 가리킨다! (중요)\n",
        "#다른 언어에서는 자료형을 직접 지정해줘야하지만 파이썬은 스스로 판단해서 저장한다.\n",
        "# id() 변수가 가리키는 주소값을 반환한다.\n",
        "\n",
        "\n",
        "a=1\n",
        "b= 'python'\n",
        "\n",
        "id(a)"
      ],
      "execution_count": null,
      "outputs": [
        {
          "output_type": "execute_result",
          "data": {
            "text/plain": [
              "94176952699392"
            ]
          },
          "metadata": {},
          "execution_count": 129
        }
      ]
    },
    {
      "cell_type": "code",
      "metadata": {
        "colab": {
          "base_uri": "https://localhost:8080/"
        },
        "id": "8BJ1tQ54CRxL",
        "outputId": "414140c3-632d-482e-f92f-553f4d98b041"
      },
      "source": [
        "id(b)"
      ],
      "execution_count": null,
      "outputs": [
        {
          "output_type": "execute_result",
          "data": {
            "text/plain": [
              "140516737140784"
            ]
          },
          "metadata": {},
          "execution_count": 120
        }
      ]
    },
    {
      "cell_type": "code",
      "metadata": {
        "id": "QMi17v2FCTsp"
      },
      "source": [
        "a = [1,2,3]\n",
        "b = a"
      ],
      "execution_count": null,
      "outputs": []
    },
    {
      "cell_type": "code",
      "metadata": {
        "colab": {
          "base_uri": "https://localhost:8080/"
        },
        "id": "I8MO7vcDDT-z",
        "outputId": "f5a45716-36d3-4eb5-9914-21d4767cb8b9"
      },
      "source": [
        "b"
      ],
      "execution_count": null,
      "outputs": [
        {
          "output_type": "execute_result",
          "data": {
            "text/plain": [
              "[1, 2, 3]"
            ]
          },
          "metadata": {},
          "execution_count": 127
        }
      ]
    },
    {
      "cell_type": "code",
      "metadata": {
        "colab": {
          "base_uri": "https://localhost:8080/"
        },
        "id": "lJPoYa38Dgpu",
        "outputId": "052277ce-12d2-4d73-dc06-e7ce2ca01f71"
      },
      "source": [
        "id(a) == id(b)"
      ],
      "execution_count": null,
      "outputs": [
        {
          "output_type": "execute_result",
          "data": {
            "text/plain": [
              "True"
            ]
          },
          "metadata": {},
          "execution_count": 128
        }
      ]
    },
    {
      "cell_type": "code",
      "metadata": {
        "colab": {
          "base_uri": "https://localhost:8080/"
        },
        "id": "XV_Dpb6_DkZ0",
        "outputId": "a571636e-ddd7-49b0-955b-7878a09f75f5"
      },
      "source": [
        "a is b  #a와 b가 가리키는 객체가 같음?"
      ],
      "execution_count": null,
      "outputs": [
        {
          "output_type": "execute_result",
          "data": {
            "text/plain": [
              "True"
            ]
          },
          "metadata": {},
          "execution_count": 133
        }
      ]
    },
    {
      "cell_type": "code",
      "metadata": {
        "colab": {
          "base_uri": "https://localhost:8080/"
        },
        "id": "QVPBGSWKGVH9",
        "outputId": "af4b7af9-c2f4-4005-dc32-b9aa020b39f8"
      },
      "source": [
        "a[1] = 4\n",
        "a"
      ],
      "execution_count": null,
      "outputs": [
        {
          "output_type": "execute_result",
          "data": {
            "text/plain": [
              "[1, 4, 3]"
            ]
          },
          "metadata": {},
          "execution_count": 198
        }
      ]
    },
    {
      "cell_type": "code",
      "metadata": {
        "colab": {
          "base_uri": "https://localhost:8080/"
        },
        "id": "DVICTXOlGjbd",
        "outputId": "87eedcb0-3a68-4a33-ed57-d88e77f05dee"
      },
      "source": [
        "b\n"
      ],
      "execution_count": null,
      "outputs": [
        {
          "output_type": "execute_result",
          "data": {
            "text/plain": [
              "[1, 4, 3]"
            ]
          },
          "metadata": {},
          "execution_count": 199
        }
      ]
    },
    {
      "cell_type": "code",
      "metadata": {
        "colab": {
          "base_uri": "https://localhost:8080/"
        },
        "id": "lVXrfvZgLMaN",
        "outputId": "4f421a0f-c4c5-4668-d81f-d67b10dbc402"
      },
      "source": [
        "a==b"
      ],
      "execution_count": null,
      "outputs": [
        {
          "output_type": "execute_result",
          "data": {
            "text/plain": [
              "True"
            ]
          },
          "metadata": {},
          "execution_count": 200
        }
      ]
    },
    {
      "cell_type": "code",
      "metadata": {
        "colab": {
          "base_uri": "https://localhost:8080/"
        },
        "id": "jmHBHUp4G0Xz",
        "outputId": "cd476040-e9a4-405f-a3d4-2f801f16d165"
      },
      "source": [
        "a = [1,2,3]\n",
        "b =a[:]\n",
        "\n",
        "a[1]=4\n",
        "a"
      ],
      "execution_count": null,
      "outputs": [
        {
          "output_type": "execute_result",
          "data": {
            "text/plain": [
              "[1, 4, 3]"
            ]
          },
          "metadata": {},
          "execution_count": 137
        }
      ]
    },
    {
      "cell_type": "code",
      "metadata": {
        "colab": {
          "base_uri": "https://localhost:8080/"
        },
        "id": "_wMisPONHBKk",
        "outputId": "5f35a7cc-a0b5-44a5-fbfb-dbc6dac1f51d"
      },
      "source": [
        "b"
      ],
      "execution_count": null,
      "outputs": [
        {
          "output_type": "execute_result",
          "data": {
            "text/plain": [
              "[1, 2, 3]"
            ]
          },
          "metadata": {},
          "execution_count": 138
        }
      ]
    },
    {
      "cell_type": "code",
      "metadata": {
        "colab": {
          "base_uri": "https://localhost:8080/"
        },
        "id": "6TzZ7-WDHEQv",
        "outputId": "d3aebd49-1a42-4a4e-a71d-cbadef44d500"
      },
      "source": [
        "id(a)"
      ],
      "execution_count": null,
      "outputs": [
        {
          "output_type": "execute_result",
          "data": {
            "text/plain": [
              "140516042596832"
            ]
          },
          "metadata": {},
          "execution_count": 140
        }
      ]
    },
    {
      "cell_type": "code",
      "metadata": {
        "colab": {
          "base_uri": "https://localhost:8080/"
        },
        "id": "Di6_5oEQHGUu",
        "outputId": "8c6475d8-f3d6-4fb4-ecb3-bc5abe43d6eb"
      },
      "source": [
        "id(b)"
      ],
      "execution_count": null,
      "outputs": [
        {
          "output_type": "execute_result",
          "data": {
            "text/plain": [
              "140516042617712"
            ]
          },
          "metadata": {},
          "execution_count": 139
        }
      ]
    },
    {
      "cell_type": "code",
      "metadata": {
        "colab": {
          "base_uri": "https://localhost:8080/"
        },
        "id": "qGcWDwK2HRDP",
        "outputId": "bf3d99b5-3480-409b-c6c3-82724870faf7"
      },
      "source": [
        "from copy import copy\n",
        "a = [1,2,3]\n",
        "b = copy(a)\n",
        "b is a"
      ],
      "execution_count": null,
      "outputs": [
        {
          "output_type": "execute_result",
          "data": {
            "text/plain": [
              "False"
            ]
          },
          "metadata": {},
          "execution_count": 142
        }
      ]
    },
    {
      "cell_type": "code",
      "metadata": {
        "colab": {
          "base_uri": "https://localhost:8080/"
        },
        "id": "zBGedg6LHrxt",
        "outputId": "d606e639-cdca-4898-8dcc-3c176e8a433c"
      },
      "source": [
        "id(a)"
      ],
      "execution_count": null,
      "outputs": [
        {
          "output_type": "execute_result",
          "data": {
            "text/plain": [
              "140516042597472"
            ]
          },
          "metadata": {},
          "execution_count": 146
        }
      ]
    },
    {
      "cell_type": "code",
      "metadata": {
        "colab": {
          "base_uri": "https://localhost:8080/"
        },
        "id": "q9Vg4GcVHtYz",
        "outputId": "28240c01-2990-453e-f067-7dcbd813f9d8"
      },
      "source": [
        "id(b)"
      ],
      "execution_count": null,
      "outputs": [
        {
          "output_type": "execute_result",
          "data": {
            "text/plain": [
              "140516042697216"
            ]
          },
          "metadata": {},
          "execution_count": 144
        }
      ]
    },
    {
      "cell_type": "code",
      "metadata": {
        "colab": {
          "base_uri": "https://localhost:8080/",
          "height": 34
        },
        "id": "RU5XNAyWH1VK",
        "outputId": "2b00bd9c-c104-4820-8512-0e73b1bb77fe"
      },
      "source": [
        "a, b = ('pyhon','great')\n",
        "a"
      ],
      "execution_count": null,
      "outputs": [
        {
          "output_type": "execute_result",
          "data": {
            "application/vnd.google.colaboratory.intrinsic+json": {
              "type": "string"
            },
            "text/plain": [
              "'pyhon'"
            ]
          },
          "metadata": {},
          "execution_count": 202
        }
      ]
    },
    {
      "cell_type": "code",
      "metadata": {
        "id": "ZjS59N_mIF6e"
      },
      "source": [
        "(a,b) = 'python', 'great'\n"
      ],
      "execution_count": null,
      "outputs": []
    },
    {
      "cell_type": "code",
      "metadata": {
        "id": "fsbpQrdyILND"
      },
      "source": [
        "a= b= 'python'"
      ],
      "execution_count": null,
      "outputs": []
    },
    {
      "cell_type": "code",
      "metadata": {
        "id": "tYpQSTKlIRud"
      },
      "source": [
        "a = 5\n",
        "b = 10\n",
        "\n",
        "a,b = b,a\n"
      ],
      "execution_count": null,
      "outputs": []
    },
    {
      "cell_type": "code",
      "metadata": {
        "colab": {
          "base_uri": "https://localhost:8080/"
        },
        "id": "WEUH2vqOI7xV",
        "outputId": "a807fa55-e8d9-4a49-9e61-7ecdd0737c28"
      },
      "source": [
        "a"
      ],
      "execution_count": null,
      "outputs": [
        {
          "output_type": "execute_result",
          "data": {
            "text/plain": [
              "10"
            ]
          },
          "metadata": {},
          "execution_count": 152
        }
      ]
    },
    {
      "cell_type": "code",
      "metadata": {
        "colab": {
          "base_uri": "https://localhost:8080/"
        },
        "id": "W0CMn9q8I8pQ",
        "outputId": "7c407701-641f-40c0-c287-48206232ae0d"
      },
      "source": [
        "b"
      ],
      "execution_count": null,
      "outputs": [
        {
          "output_type": "execute_result",
          "data": {
            "text/plain": [
              "5"
            ]
          },
          "metadata": {},
          "execution_count": 153
        }
      ]
    },
    {
      "cell_type": "code",
      "metadata": {
        "colab": {
          "base_uri": "https://localhost:8080/"
        },
        "id": "naQIaznlJPZK",
        "outputId": "f7eea2de-bb10-4dc0-9b70-f9fdd32186aa"
      },
      "source": [
        "#문제 풀기..\n",
        "\n",
        "# 1. 정수 13이 홀수인지 짝수 인지 어떻게 판별할 수 있을까..\n",
        "a= 13\n",
        "a%2 ==1"
      ],
      "execution_count": null,
      "outputs": [
        {
          "output_type": "execute_result",
          "data": {
            "text/plain": [
              "True"
            ]
          },
          "metadata": {},
          "execution_count": 154
        }
      ]
    },
    {
      "cell_type": "code",
      "metadata": {
        "id": "FhEiIP4uKcCR"
      },
      "source": [
        "# 어떤수가 어떤수의 배수인지 어떻게 판별할 수 있을가..\n",
        "\n",
        "9 % 3"
      ],
      "execution_count": null,
      "outputs": []
    },
    {
      "cell_type": "code",
      "metadata": {
        "colab": {
          "base_uri": "https://localhost:8080/"
        },
        "id": "Bd5R-zB9K14B",
        "outputId": "1674d59d-79f6-41e1-f8d6-2046bda2ac9e"
      },
      "source": [
        "#홍길동 학생의 주빈번호가 881120 -1073484 생년월일만 추출해보자\n",
        "\n",
        "hong = '881120-1073484'\n",
        "print(hong[:6])\n",
        "print(hong[7:])"
      ],
      "execution_count": null,
      "outputs": [
        {
          "output_type": "stream",
          "name": "stdout",
          "text": [
            "881120\n",
            "1073484\n"
          ]
        }
      ]
    },
    {
      "cell_type": "code",
      "metadata": {
        "colab": {
          "base_uri": "https://localhost:8080/",
          "height": 34
        },
        "id": "2ej_HXuTMRs8",
        "outputId": "fb156d11-5e17-48a6-fc01-83a2239a5b3f"
      },
      "source": [
        "life = ['Life','is','too','short'] #한문장으로 만들어보자\n",
        "result =\" \".join(life) #각 요소사이에 빈칸 삽입 후 하나의 문자열로 만듦\n",
        "result"
      ],
      "execution_count": null,
      "outputs": [
        {
          "output_type": "execute_result",
          "data": {
            "application/vnd.google.colaboratory.intrinsic+json": {
              "type": "string"
            },
            "text/plain": [
              "'Life is too short'"
            ]
          },
          "metadata": {},
          "execution_count": 205
        }
      ]
    },
    {
      "cell_type": "code",
      "metadata": {
        "colab": {
          "base_uri": "https://localhost:8080/"
        },
        "id": "uXfPapKwNTA4",
        "outputId": "ea2968f9-9aed-4ad5-bcd7-8d89312301d2"
      },
      "source": [
        "a =(1,2,3)\n",
        "print(id(a))\n",
        "a = a+(4,) #튜플 자료형에 1개의 원소만 나타날 때 쉼표 붙이기\n",
        "print(id(a)) #a가 가르키는 위치가 달라졌다!\n",
        "a"
      ],
      "execution_count": null,
      "outputs": [
        {
          "output_type": "stream",
          "name": "stdout",
          "text": [
            "140516042919280\n",
            "140516042509584\n"
          ]
        },
        {
          "output_type": "execute_result",
          "data": {
            "text/plain": [
              "(1, 2, 3, 4)"
            ]
          },
          "metadata": {},
          "execution_count": 206
        }
      ]
    },
    {
      "cell_type": "code",
      "metadata": {
        "colab": {
          "base_uri": "https://localhost:8080/"
        },
        "id": "M_uTgWgVOGoR",
        "outputId": "e63f340f-6e3c-43c3-a73c-69a6a658bc1b"
      },
      "source": [
        "# if \n",
        "# 자료형 ... 나무 돌 시멘트 .. 재료\n",
        "# 제어문 ... 건물의 뼈대 \n",
        "\n",
        "#s 참과 거짓을 판단한다...\n",
        "\n",
        "money = True\n",
        "\n",
        "if money:\n",
        "  print(\"택시를 타자\")\n",
        "else:\n",
        "  print(\"걸어가자\")"
      ],
      "execution_count": null,
      "outputs": [
        {
          "output_type": "stream",
          "name": "stdout",
          "text": [
            "택시를 타자\n"
          ]
        }
      ]
    },
    {
      "cell_type": "code",
      "metadata": {
        "id": "x-79fTrUUmPZ"
      },
      "source": [
        "#비교연산자\n",
        "\n",
        "x<y\n",
        "x>y\n",
        "x==y\n",
        "x != y\n",
        "x >= y\n",
        "x <= y\n",
        "\n",
        "x or y\n",
        "x and y"
      ],
      "execution_count": null,
      "outputs": []
    },
    {
      "cell_type": "code",
      "metadata": {
        "colab": {
          "base_uri": "https://localhost:8080/"
        },
        "id": "vEOHt_oUVsw8",
        "outputId": "2e9b8f05-0e5f-482c-9870-d4a9f8979ade"
      },
      "source": [
        "money = 2000\n",
        "card = True\n",
        "if money >= 3000 or card:\n",
        "  print(\"택시\")\n",
        "\n",
        "else:\n",
        "  print(\"걷기\")"
      ],
      "execution_count": null,
      "outputs": [
        {
          "output_type": "stream",
          "name": "stdout",
          "text": [
            "택시\n"
          ]
        }
      ]
    },
    {
      "cell_type": "code",
      "metadata": {
        "colab": {
          "base_uri": "https://localhost:8080/"
        },
        "id": "oZWtjFHzWX-T",
        "outputId": "c4521d1e-ec2c-4d36-8812-0a9a158f4852"
      },
      "source": [
        "pocket = ['paper','cellphone','money']\n",
        "\n",
        "if 'money' not in pocket:\n",
        "  print(\"택시\")\n",
        "else: \n",
        "  print(\"걷기\")"
      ],
      "execution_count": null,
      "outputs": [
        {
          "output_type": "stream",
          "name": "stdout",
          "text": [
            "걷기\n"
          ]
        }
      ]
    },
    {
      "cell_type": "code",
      "metadata": {
        "colab": {
          "base_uri": "https://localhost:8080/"
        },
        "id": "jk7qQEOkXCt7",
        "outputId": "b5727e71-e662-440b-fbe6-8ba1cf7b1929"
      },
      "source": [
        "pocket = ['paper','cellphone']\n",
        "card = True\n",
        "if 'money' in pocket:\n",
        "  print('택시')\n",
        "elif card:\n",
        "  print(\"택시\")\n",
        "else:\n",
        "  print(\"걷기\")\n",
        "\n",
        "\n",
        "#즉, elif는 이전 조건문이 거짓일 때 수행된다."
      ],
      "execution_count": null,
      "outputs": [
        {
          "output_type": "stream",
          "name": "stdout",
          "text": [
            "택시\n"
          ]
        }
      ]
    },
    {
      "cell_type": "code",
      "metadata": {
        "colab": {
          "base_uri": "https://localhost:8080/"
        },
        "id": "G4B5vZ76XsES",
        "outputId": "972ba799-497a-445c-e529-6dc261d6e44b"
      },
      "source": [
        "#점수가 90이상이면 에이, 80이상이면 비, 70이상이면 씨, 60이상이면 디, 나머지 에프\n",
        "\n",
        "score =75\n",
        "\n",
        "if score>=90:\n",
        "  print(\"A\")\n",
        "elif score>=80:\n",
        "  print('B')\n",
        "elif score>=70:\n",
        "  print('C')\n",
        "elif score>=60:\n",
        "  print(\"D\")\n",
        "else:\n",
        "  print(\"F\")"
      ],
      "execution_count": null,
      "outputs": [
        {
          "output_type": "stream",
          "name": "stdout",
          "text": [
            "C\n"
          ]
        }
      ]
    },
    {
      "cell_type": "code",
      "metadata": {
        "colab": {
          "base_uri": "https://localhost:8080/"
        },
        "id": "4SFyo45BZ86T",
        "outputId": "b7d70b9a-7af1-4dcf-eabc-8e13bd58fef1"
      },
      "source": [
        "# 반복문 while(반복횟수가 명확하지 않을 경우) / for(반복횟수 명확)\n",
        "\n",
        "\n",
        "# while...\n",
        "\n",
        "n =1;\n",
        "while n <10:\n",
        "  print(n)\n",
        "  n = n+1"
      ],
      "execution_count": null,
      "outputs": [
        {
          "output_type": "stream",
          "name": "stdout",
          "text": [
            "1\n",
            "2\n",
            "3\n",
            "4\n",
            "5\n",
            "6\n",
            "7\n",
            "8\n",
            "9\n"
          ]
        }
      ]
    },
    {
      "cell_type": "code",
      "metadata": {
        "colab": {
          "base_uri": "https://localhost:8080/"
        },
        "id": "OUlHfg5ibe9o",
        "outputId": "8bacdbe7-607a-4a3f-8a5e-203450a37b82"
      },
      "source": [
        "n = 0\n",
        "while n <10:\n",
        "  n +=1\n",
        "  print(\"나무를 %d번 찍었습니다\" % n)\n",
        "  if n==10:\n",
        "    print('나무가 넘어갑니다..')"
      ],
      "execution_count": null,
      "outputs": [
        {
          "output_type": "stream",
          "name": "stdout",
          "text": [
            "나무를 1번 찍었습니다\n",
            "나무를 2번 찍었습니다\n",
            "나무를 3번 찍었습니다\n",
            "나무를 4번 찍었습니다\n",
            "나무를 5번 찍었습니다\n",
            "나무를 6번 찍었습니다\n",
            "나무를 7번 찍었습니다\n",
            "나무를 8번 찍었습니다\n",
            "나무를 9번 찍었습니다\n",
            "나무를 10번 찍었습니다\n",
            "나무가 넘어갑니다..\n"
          ]
        }
      ]
    },
    {
      "cell_type": "code",
      "metadata": {
        "colab": {
          "base_uri": "https://localhost:8080/"
        },
        "id": "ei4tRODadRd2",
        "outputId": "684a38ff-d140-4729-92c6-4fe8f728dd10"
      },
      "source": [
        "p = '''\n",
        "1.Add\n",
        "2.Del\n",
        "3.List\n",
        "4.Quit\n",
        "\n",
        "Enter number :'''\n",
        "\n",
        "n =0\n",
        "while n !=4:\n",
        "  print(p)\n",
        "  n = int(input()) #input()입력 받은 모든 값은 기본적으로 문자다!"
      ],
      "execution_count": null,
      "outputs": [
        {
          "name": "stdout",
          "output_type": "stream",
          "text": [
            "\n",
            "1.Add\n",
            "2.Del\n",
            "3.List\n",
            "4.Quit\n",
            "\n",
            "Enter number :\n",
            "5\n",
            "\n",
            "1.Add\n",
            "2.Del\n",
            "3.List\n",
            "4.Quit\n",
            "\n",
            "Enter number :\n",
            "3\n",
            "\n",
            "1.Add\n",
            "2.Del\n",
            "3.List\n",
            "4.Quit\n",
            "\n",
            "Enter number :\n",
            "4\n"
          ]
        }
      ]
    },
    {
      "cell_type": "code",
      "metadata": {
        "colab": {
          "base_uri": "https://localhost:8080/"
        },
        "id": "cmk-OXsuegyB",
        "outputId": "2cf1e0b0-50e8-4e59-fe31-52c2a21fde0c"
      },
      "source": [
        "n=1\n",
        "sum=0\n",
        "while n<1001:\n",
        "  n +=1\n",
        "  if(n%3==0):\n",
        "    sum +=n\n",
        "\n",
        "print(sum)"
      ],
      "execution_count": null,
      "outputs": [
        {
          "output_type": "stream",
          "name": "stdout",
          "text": [
            "166833\n"
          ]
        }
      ]
    }
  ]
}
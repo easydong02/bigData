{
  "nbformat": 4,
  "nbformat_minor": 0,
  "metadata": {
    "colab": {
      "name": "PythonDay2.ipynb",
      "provenance": [],
      "collapsed_sections": []
    },
    "kernelspec": {
      "name": "python3",
      "display_name": "Python 3"
    },
    "language_info": {
      "name": "python"
    }
  },
  "cells": [
    {
      "cell_type": "code",
      "metadata": {
        "colab": {
          "base_uri": "https://localhost:8080/"
        },
        "id": "TDhoSAsaCFFI",
        "outputId": "bef198e0-eb68-4472-bf17-5de7e0b13fd8"
      },
      "source": [
        "# 커피 자판기 \n",
        "# 남은 커피가 있으면 판매 -> 판매 -> 없으면 안 판매\n",
        "\n",
        "coffee = 10\n",
        "money= 300\n",
        "\n",
        "while money:\n",
        "  print(\"커피를 판매합니다.\")\n",
        "  coffee -=1\n",
        "  print(\"남은 커피는 %d개 입니다.\" % coffee)\n",
        "  if coffee ==0:\n",
        "    print(\"매진\")\n",
        "    break\n"
      ],
      "execution_count": null,
      "outputs": [
        {
          "output_type": "stream",
          "name": "stdout",
          "text": [
            "커피를 판매합니다.\n",
            "남은 커피는 9개 입니다.\n",
            "커피를 판매합니다.\n",
            "남은 커피는 8개 입니다.\n",
            "커피를 판매합니다.\n",
            "남은 커피는 7개 입니다.\n",
            "커피를 판매합니다.\n",
            "남은 커피는 6개 입니다.\n",
            "커피를 판매합니다.\n",
            "남은 커피는 5개 입니다.\n",
            "커피를 판매합니다.\n",
            "남은 커피는 4개 입니다.\n",
            "커피를 판매합니다.\n",
            "남은 커피는 3개 입니다.\n",
            "커피를 판매합니다.\n",
            "남은 커피는 2개 입니다.\n",
            "커피를 판매합니다.\n",
            "남은 커피는 1개 입니다.\n",
            "커피를 판매합니다.\n",
            "남은 커피는 0개 입니다.\n",
            "매진\n"
          ]
        }
      ]
    },
    {
      "cell_type": "code",
      "metadata": {
        "colab": {
          "base_uri": "https://localhost:8080/"
        },
        "id": "OaY1w7qSOkMj",
        "outputId": "3c217a2a-906c-4920-a290-7bd14e6a8dce"
      },
      "source": [
        "coffee =10\n",
        "while True:\n",
        "  money =int(input(\"돈을 넣어 주세요 : \"))\n",
        "  if money == 300:\n",
        "    print(\"커피를 드립니다.\")\n",
        "    coffee -=1\n",
        "  elif money >300:\n",
        "    print(\"거스름 돈은 %d원입니다.\" %(money-300))\n",
        "    coffee -=1\n",
        "  else:\n",
        "    print(\"금액이 부족합니다.\")\n",
        "  \n",
        "  if coffee ==0:\n",
        "    print(\"매진되었습니다\")\n",
        "    break"
      ],
      "execution_count": null,
      "outputs": [
        {
          "output_type": "stream",
          "name": "stdout",
          "text": [
            "돈을 넣어 주세요 : 600\n",
            "거스름 돈은 300원입니다.\n",
            "돈을 넣어 주세요 : 300\n",
            "커피를 드립니다.\n",
            "돈을 넣어 주세요 : 100\n",
            "금액이 부족합니다.\n",
            "돈을 넣어 주세요 : 800\n",
            "거스름 돈은 500원입니다.\n",
            "돈을 넣어 주세요 : 100\n",
            "금액이 부족합니다.\n",
            "돈을 넣어 주세요 : 90\n",
            "금액이 부족합니다.\n",
            "돈을 넣어 주세요 : 600\n",
            "거스름 돈은 300원입니다.\n",
            "돈을 넣어 주세요 : 5000\n",
            "거스름 돈은 4700원입니다.\n",
            "돈을 넣어 주세요 : 300\n",
            "커피를 드립니다.\n",
            "돈을 넣어 주세요 : 400\n",
            "거스름 돈은 100원입니다.\n",
            "돈을 넣어 주세요 : 600\n",
            "거스름 돈은 300원입니다.\n",
            "돈을 넣어 주세요 : 800\n",
            "거스름 돈은 500원입니다.\n",
            "돈을 넣어 주세요 : 800\n",
            "거스름 돈은 500원입니다.\n",
            "매진되었습니다\n"
          ]
        }
      ]
    },
    {
      "cell_type": "code",
      "metadata": {
        "colab": {
          "base_uri": "https://localhost:8080/"
        },
        "id": "vsKrfEdgQUG3",
        "outputId": "5dbfd323-acd3-4bc4-9f5a-1b46b554f267"
      },
      "source": [
        "a =0\n",
        "while a<10:\n",
        "  a +=1\n",
        "  if a%2 ==0:continue\n",
        "  print(a)"
      ],
      "execution_count": null,
      "outputs": [
        {
          "output_type": "stream",
          "name": "stdout",
          "text": [
            "1\n",
            "3\n",
            "5\n",
            "7\n",
            "9\n"
          ]
        }
      ]
    },
    {
      "cell_type": "code",
      "metadata": {
        "colab": {
          "base_uri": "https://localhost:8080/"
        },
        "id": "Lv3JpALsSWfn",
        "outputId": "89ed285a-6a39-47f3-88f4-4668c286c875"
      },
      "source": [
        "# for ... 반복문 ..\n",
        "\n",
        "# 파이썬의 직관적인 특징을 잘 보여주는 것이 for문이다.\n",
        "# while문과 비슷하지만 for문은 매우 많이 사용되고 문장 구조가 한눈에 파악하기 쉽다\n",
        "\n",
        "list = [1,2,3,4,5]\n",
        "for i in list:\n",
        "  print(i)"
      ],
      "execution_count": null,
      "outputs": [
        {
          "output_type": "stream",
          "name": "stdout",
          "text": [
            "1\n",
            "2\n",
            "3\n",
            "4\n",
            "5\n"
          ]
        }
      ]
    },
    {
      "cell_type": "code",
      "metadata": {
        "colab": {
          "base_uri": "https://localhost:8080/"
        },
        "id": "UntGBg1aSren",
        "outputId": "ff31a62a-28b6-46a3-ff46-2cd73d4c3358"
      },
      "source": [
        "a = [(1,2),(3,4),(5,6)]\n",
        "\n",
        "for x in a:\n",
        "  print(x)\n",
        "print(len(x))"
      ],
      "execution_count": null,
      "outputs": [
        {
          "output_type": "stream",
          "name": "stdout",
          "text": [
            "(1, 2)\n",
            "(3, 4)\n",
            "(5, 6)\n",
            "2\n"
          ]
        }
      ]
    },
    {
      "cell_type": "code",
      "metadata": {
        "colab": {
          "base_uri": "https://localhost:8080/"
        },
        "id": "RrhfYRvaVGXh",
        "outputId": "79c660c8-dbd6-4a43-996a-905c9667aad9"
      },
      "source": [
        "a = [(1,2),(3,4),(5,6)]\n",
        "\n",
        "for x,y in a:\n",
        "  print(x+y)"
      ],
      "execution_count": null,
      "outputs": [
        {
          "output_type": "stream",
          "name": "stdout",
          "text": [
            "3\n",
            "7\n",
            "11\n"
          ]
        }
      ]
    },
    {
      "cell_type": "code",
      "metadata": {
        "colab": {
          "base_uri": "https://localhost:8080/"
        },
        "id": "Mzaw4FdETph8",
        "outputId": "5bb0ddb4-c4d4-44d3-e5c8-fd401718080c"
      },
      "source": [
        "score = [90,70,50,40,80]\n",
        "i=0\n",
        "for x in score:\n",
        "  i +=1\n",
        "  if x>60:\n",
        "    print(\"%d번 합격\" %i)\n",
        "  else:\n",
        "    print(\"%d번 불합격\" %i)"
      ],
      "execution_count": null,
      "outputs": [
        {
          "output_type": "stream",
          "name": "stdout",
          "text": [
            "1번 합격\n",
            "2번 합격\n",
            "3번 불합격\n",
            "4번 불합격\n",
            "5번 합격\n"
          ]
        }
      ]
    },
    {
      "cell_type": "code",
      "metadata": {
        "colab": {
          "base_uri": "https://localhost:8080/"
        },
        "id": "cuGi6KUgVprs",
        "outputId": "96e269ea-13c3-4dc6-dbf9-18d6c0a4331f"
      },
      "source": [
        "score = [90,70,50,40,80]\n",
        "i=0\n",
        "for x in score:\n",
        "  i +=1\n",
        "  if x<60:continue\n",
        "\n",
        "  print(\"%d번 합격\" %i)\n",
        "\n"
      ],
      "execution_count": null,
      "outputs": [
        {
          "output_type": "stream",
          "name": "stdout",
          "text": [
            "1번 합격\n",
            "2번 합격\n",
            "5번 합격\n"
          ]
        }
      ]
    },
    {
      "cell_type": "code",
      "metadata": {
        "colab": {
          "base_uri": "https://localhost:8080/"
        },
        "id": "clwuo_baWT1h",
        "outputId": "8ca250d5-f001-4dc9-cdcf-3b23dac21d08"
      },
      "source": [
        "# range함수와 for 문\n",
        "# range(start, stop, step)start를 생략하면 0부터, step을 생략하면 1씩 증가\n",
        "\n",
        "add =0\n",
        "\n",
        "for i in range(1,11,2):\n",
        "  add+=i\n",
        "\n",
        "print(add)\n",
        "\n",
        "add=0\n",
        "for i in range(11,1,-2):\n",
        "  add+=i\n",
        "\n",
        "print(add)"
      ],
      "execution_count": null,
      "outputs": [
        {
          "output_type": "stream",
          "name": "stdout",
          "text": [
            "25\n",
            "60\n"
          ]
        }
      ]
    },
    {
      "cell_type": "code",
      "metadata": {
        "colab": {
          "base_uri": "https://localhost:8080/"
        },
        "id": "tFiNgSNIZyoc",
        "outputId": "d613213e-a44e-4dea-dd5c-fd0900e02a4c"
      },
      "source": [
        "#quiz\n",
        "# for 문과 range를 이용해서 구구단을\n",
        "\n",
        "for i in range(2,10):\n",
        "  print(\" \")\n",
        "  for j in range(1,10):\n",
        "    print(i*j,end=\"\")\n",
        "\n"
      ],
      "execution_count": null,
      "outputs": [
        {
          "output_type": "stream",
          "name": "stdout",
          "text": [
            " \n",
            "24681012141618 \n",
            "369121518212427 \n",
            "4812162024283236 \n",
            "51015202530354045 \n",
            "61218243036424854 \n",
            "71421283542495663 \n",
            "81624324048566472 \n",
            "91827364554637281"
          ]
        }
      ]
    },
    {
      "cell_type": "code",
      "metadata": {
        "colab": {
          "base_uri": "https://localhost:8080/"
        },
        "id": "xo7oBdV3blp7",
        "outputId": "2aa84427-d8cb-4964-f45f-f851cf4fc0fd"
      },
      "source": [
        "#List comprehension(리스트 내포)\n",
        "\n",
        "#without ListC\n",
        "\n",
        "a=[1,2,3,4]\n",
        "result = []\n",
        "\n",
        "for number in a:\n",
        "  result.append(number*3)\n",
        "\n",
        "print(result)\n",
        "\n"
      ],
      "execution_count": null,
      "outputs": [
        {
          "output_type": "stream",
          "name": "stdout",
          "text": [
            "[3, 6, 9, 12]\n"
          ]
        }
      ]
    },
    {
      "cell_type": "code",
      "metadata": {
        "colab": {
          "base_uri": "https://localhost:8080/"
        },
        "id": "vU04LWaTciCK",
        "outputId": "4926094b-3509-4726-d7cb-ea533c358aaa"
      },
      "source": [
        "# with ListC\n",
        "\n",
        "a = [1,2,3,4]\n",
        "result = [n*3 for n in a]\n",
        "print(result)\n"
      ],
      "execution_count": null,
      "outputs": [
        {
          "output_type": "stream",
          "name": "stdout",
          "text": [
            "[3, 6, 9, 12]\n"
          ]
        }
      ]
    },
    {
      "cell_type": "code",
      "metadata": {
        "colab": {
          "base_uri": "https://localhost:8080/"
        },
        "id": "8GDdYXk6dfov",
        "outputId": "6ef7fe30-186a-4d3a-85db-399d2851ac24"
      },
      "source": [
        "a = [1,2,3,4]\n",
        "result = [n*3 for n in a if n%2 ==0]\n",
        "print(result)"
      ],
      "execution_count": null,
      "outputs": [
        {
          "output_type": "stream",
          "name": "stdout",
          "text": [
            "[6, 12]\n"
          ]
        }
      ]
    },
    {
      "cell_type": "code",
      "metadata": {
        "colab": {
          "base_uri": "https://localhost:8080/"
        },
        "id": "JEA_W8k7eVuc",
        "outputId": "187675be-8fd1-4f86-bdab-b05b4f503042"
      },
      "source": [
        "# for문을 사용해서 1부터 100까지의 자연수 중 짝수의 합\n",
        "sum = 0\n",
        "for n in range(1,101):\n",
        "  if n%2 ==0:\n",
        "    sum +=n\n",
        "\n",
        "print(sum)"
      ],
      "execution_count": null,
      "outputs": [
        {
          "output_type": "stream",
          "name": "stdout",
          "text": [
            "2550\n"
          ]
        }
      ]
    },
    {
      "cell_type": "code",
      "metadata": {
        "colab": {
          "base_uri": "https://localhost:8080/"
        },
        "id": "6AyXSzqufNrl",
        "outputId": "8378acd1-f304-4dff-ffde-a1b1ed4deb29"
      },
      "source": [
        "i =0\n",
        "\n",
        "\n",
        "while i<5:\n",
        "  i +=1\n",
        "  for i in range(1,i+1):\n",
        "    print(\"*\",end =\"\")\n",
        "  print(\"\")"
      ],
      "execution_count": null,
      "outputs": [
        {
          "output_type": "stream",
          "name": "stdout",
          "text": [
            "*\n",
            "**\n",
            "***\n",
            "****\n",
            "*****\n"
          ]
        }
      ]
    },
    {
      "cell_type": "code",
      "metadata": {
        "colab": {
          "base_uri": "https://localhost:8080/"
        },
        "id": "8Fy2f--Bhtk_",
        "outputId": "1744284c-980f-4f3e-a758-9516d4bff1e8"
      },
      "source": [
        "a=[70,60,55,75,95,90,80,80,85,100]\n",
        "sum =0\n",
        "for n in a:\n",
        "  sum +=n\n",
        "\n",
        "\n",
        "print(sum/len(a))"
      ],
      "execution_count": null,
      "outputs": [
        {
          "output_type": "stream",
          "name": "stdout",
          "text": [
            "79.0\n"
          ]
        }
      ]
    },
    {
      "cell_type": "code",
      "metadata": {
        "colab": {
          "base_uri": "https://localhost:8080/"
        },
        "id": "fb1IZ6aF0Jus",
        "outputId": "90141457-238b-40ec-9215-83295a68739c"
      },
      "source": [
        "n =[1,2,3,4,5]\n",
        "result = [  2*a for a in n  if a%2==1]\n",
        "result"
      ],
      "execution_count": null,
      "outputs": [
        {
          "output_type": "execute_result",
          "data": {
            "text/plain": [
              "[2, 6, 10]"
            ]
          },
          "metadata": {},
          "execution_count": 80
        }
      ]
    },
    {
      "cell_type": "code",
      "metadata": {
        "colab": {
          "base_uri": "https://localhost:8080/"
        },
        "id": "VKzT2jsV1N-r",
        "outputId": "e88a1981-ccc0-4a6e-f07a-e174a874364f"
      },
      "source": [
        "#함수\n"
      ],
      "execution_count": null,
      "outputs": [
        {
          "output_type": "stream",
          "name": "stdout",
          "text": [
            "dse  \n"
          ]
        }
      ]
    },
    {
      "cell_type": "markdown",
      "metadata": {
        "id": "9NwMZIp01dE5"
      },
      "source": [
        "함수란!!!\n",
        "\n",
        "과일 -> 믹서기 -> 과일주스\n",
        "바나나 -> 믹서기 -> 바나나주스\n",
        "사과 -> 믹서기 -> 사과주스\n",
        "\n",
        "왜!\n",
        "항상 반복되는 코드를 매번 작성하는 것보다 그것들을 묶어서 함수로 만들면 쉽고 편하게 재활용 할 수 있다\n",
        "\n",
        "기본형\n",
        "\n",
        "def 함수명(변수):\n",
        "  수행\n",
        "  수행\n",
        "  수행\n",
        "  return 값\n",
        "\n",
        "def add(d,b):\n",
        "  return a+b\n",
        "\n",
        "이 함수의 이름은 add이고 입력으로 2개의 값을 받아서 더해준다."
      ]
    },
    {
      "cell_type": "code",
      "metadata": {
        "colab": {
          "base_uri": "https://localhost:8080/"
        },
        "id": "bac6ovWU3HST",
        "outputId": "7bc7656a-168a-4a49-afa3-7a522e908f63"
      },
      "source": [
        " def add(a,b):    #a,b 매개변수 (값을 받는 변수)\n",
        "   return a+b\n",
        "  \n",
        "\n",
        "add(1,2)   #3,4 인수 (진짜 들어가는 값)"
      ],
      "execution_count": null,
      "outputs": [
        {
          "output_type": "execute_result",
          "data": {
            "text/plain": [
              "3"
            ]
          },
          "metadata": {},
          "execution_count": 93
        }
      ]
    },
    {
      "cell_type": "code",
      "metadata": {
        "id": "Jh3Tpe5C2UWA"
      },
      "source": [
        "#4가지 함수의 형태\n",
        "\n",
        "#1. 입력값도 있고 출력값도 있는 함수\n",
        "#2. 입력값은 있고 출력값은 없는 함수\n",
        "#3. 입력값은 없고 출력값은 있는 함수\n",
        "#4. 입력값도 없고 출력값도 없는 함수\n",
        "\n",
        "\n"
      ],
      "execution_count": null,
      "outputs": []
    },
    {
      "cell_type": "code",
      "metadata": {
        "colab": {
          "base_uri": "https://localhost:8080/"
        },
        "id": "7eoJvmEy47KD",
        "outputId": "6ab36759-5607-4ab6-b861-f32a87881dd7"
      },
      "source": [
        "a=\"Hi\"\n",
        "def say(a):\n",
        "  print(a)\n",
        "\n",
        "say(a)"
      ],
      "execution_count": null,
      "outputs": [
        {
          "output_type": "stream",
          "name": "stdout",
          "text": [
            "Hi\n"
          ]
        }
      ]
    },
    {
      "cell_type": "code",
      "metadata": {
        "id": "WhoAkw3y51Jo"
      },
      "source": [
        "der add(a,b):\n",
        "  return a+b\n",
        "\n",
        "r= add(b=7,a=4)"
      ],
      "execution_count": null,
      "outputs": []
    },
    {
      "cell_type": "code",
      "metadata": {
        "colab": {
          "base_uri": "https://localhost:8080/"
        },
        "id": "DMEDLD246F8W",
        "outputId": "da449669-7594-4734-9e2b-2f3c0818d508"
      },
      "source": [
        "#입력이 몇개가 될지 모를 때!!\n",
        "\n",
        "def add_many(*args):\n",
        "  result =0\n",
        "  for i in args:\n",
        "    result = result +i\n",
        "  return result\n",
        "\n",
        "add_many(1,2,3,4,5)\n",
        "\n"
      ],
      "execution_count": null,
      "outputs": [
        {
          "output_type": "execute_result",
          "data": {
            "text/plain": [
              "15"
            ]
          },
          "metadata": {},
          "execution_count": 108
        }
      ]
    },
    {
      "cell_type": "code",
      "metadata": {
        "id": "b_ZCEzOV74w5"
      },
      "source": [
        "def add(ab):\n",
        "  a='s'\n",
        "  b='sef'\n",
        "  print(\"%d,%d 의 값은 %입니다.\"(a,b,ba)) "
      ],
      "execution_count": null,
      "outputs": []
    },
    {
      "cell_type": "code",
      "metadata": {
        "colab": {
          "base_uri": "https://localhost:8080/"
        },
        "id": "H3XSE92g8TN6",
        "outputId": "282094cf-4a01-4a9a-ce32-f16e127629a0"
      },
      "source": [
        "#함수의 결과값은 언제나 함수이다.\n",
        "\n",
        "def add_mul(a,b):\n",
        "  return a+b, a*b \n",
        "  return a*b #처음만나는 return문으로 함수 종료 됨.\n",
        "\n",
        "result =add_mul(3,4)\n",
        "print(result)\n",
        "\n",
        "\n",
        "# 튜플값 하나로 반환된다."
      ],
      "execution_count": null,
      "outputs": [
        {
          "output_type": "stream",
          "name": "stdout",
          "text": [
            "(7, 12)\n"
          ]
        }
      ]
    },
    {
      "cell_type": "code",
      "metadata": {
        "colab": {
          "base_uri": "https://localhost:8080/"
        },
        "id": "k-4_H0WK8wBc",
        "outputId": "be49e0a7-c401-4b6b-bee9-bfee5de82e2a"
      },
      "source": [
        "result1, result2 = add_mul(3,4)\n",
        "\n",
        "print(result1)\n",
        "print(result2)\n",
        "\n",
        "#튜플 값 하나씩 가져감"
      ],
      "execution_count": null,
      "outputs": [
        {
          "output_type": "stream",
          "name": "stdout",
          "text": [
            "7\n",
            "12\n"
          ]
        }
      ]
    },
    {
      "cell_type": "code",
      "metadata": {
        "colab": {
          "base_uri": "https://localhost:8080/"
        },
        "id": "QVmY2Qk3-Flr",
        "outputId": "1547d323-2928-47b1-de66-bb2995c5edf0"
      },
      "source": [
        "def say(name,old,man=True):\n",
        "  print(\"나의 이름은 %s\" %name)\n",
        "  print(\"나이는 %d 살입니다.\" %old)\n",
        "  if man:\n",
        "    print(\"남자입니다\")\n",
        "\n",
        "  else:\n",
        "    print(\"여자입니다.\")\n",
        "\n",
        "say('신동희',27, True)\n",
        "\n",
        "#초기값 설정은 항상 끝에 한다.\n",
        "  "
      ],
      "execution_count": null,
      "outputs": [
        {
          "output_type": "stream",
          "name": "stdout",
          "text": [
            "나의 이름은 신동희\n",
            "나이는 27 살입니다.\n",
            "여자입니다.\n"
          ]
        }
      ]
    },
    {
      "cell_type": "code",
      "metadata": {
        "colab": {
          "base_uri": "https://localhost:8080/"
        },
        "id": "vTPxbIGt-5mN",
        "outputId": "9f7d04fb-a814-489e-a8ea-423b5af2b2c8"
      },
      "source": [
        "#함수에서 선언한 변수의 효력 범위...\n",
        "\n",
        "a =1\n",
        "def vartest(a):\n",
        "  a =a+1\n",
        "\n",
        "vartest(a)\n",
        "print(a)\n",
        "\n",
        "#당연히 변수 값에 1을 더했으니 2가 출력될 것으로 보였지만 결과는 1이 나온다.\n",
        "# 그 이유는 함수 안에서 새로 만든 매개변수는 함수 안에서만 사용하는 함수만의 변수이다."
      ],
      "execution_count": null,
      "outputs": [
        {
          "output_type": "stream",
          "name": "stdout",
          "text": [
            "1\n"
          ]
        }
      ]
    },
    {
      "cell_type": "code",
      "metadata": {
        "colab": {
          "base_uri": "https://localhost:8080/"
        },
        "id": "II0juxLhHCkC",
        "outputId": "b2b1a6de-f0c8-4821-c0b9-bb346f93cdc4"
      },
      "source": [
        "def vartest(a):\n",
        "  a = a+1\n",
        "\n",
        "vartest(3)\n",
        "print(a)"
      ],
      "execution_count": null,
      "outputs": [
        {
          "output_type": "stream",
          "name": "stdout",
          "text": [
            "1\n"
          ]
        }
      ]
    },
    {
      "cell_type": "code",
      "metadata": {
        "colab": {
          "base_uri": "https://localhost:8080/"
        },
        "id": "4g832CaHHzGT",
        "outputId": "0320fa76-a1ab-45d5-9047-a8b27196f035"
      },
      "source": [
        "a=1\n",
        "def vartest(a):\n",
        "  a = a+1\n",
        "  return a\n",
        "print(vartest(a))"
      ],
      "execution_count": null,
      "outputs": [
        {
          "output_type": "stream",
          "name": "stdout",
          "text": [
            "None\n"
          ]
        }
      ]
    },
    {
      "cell_type": "code",
      "metadata": {
        "colab": {
          "base_uri": "https://localhost:8080/"
        },
        "id": "JQkwObBJInec",
        "outputId": "89c342a2-0c16-4b94-d72a-092ec7974273"
      },
      "source": [
        "a=1\n",
        "def vartest():\n",
        "  global a\n",
        "  a = a+1\n",
        "  return a\n",
        "print(vartest())\n",
        "# 전역 변수 선언은 함수 밖에서도 직접 사용하겠다는 의미.\n",
        "# 전역 변수는 사용하지 않는 것이 좋다."
      ],
      "execution_count": null,
      "outputs": [
        {
          "output_type": "stream",
          "name": "stdout",
          "text": [
            "2\n"
          ]
        }
      ]
    },
    {
      "cell_type": "code",
      "metadata": {
        "colab": {
          "base_uri": "https://localhost:8080/"
        },
        "id": "u35WZLkwI_9C",
        "outputId": "212fdd47-7eb0-4214-9f18-7624389a7098"
      },
      "source": [
        "# 람다... lambda....\n",
        "# def 과 동일한 역할을 한다. 보통 함수를 한줄로 간단하게 만들 때 사용한다.\n",
        "\n",
        "def add(a,b):\n",
        "  return a+b\n",
        "\n",
        "r = add(3,4)\n",
        "print(r)\n"
      ],
      "execution_count": null,
      "outputs": [
        {
          "output_type": "stream",
          "name": "stdout",
          "text": [
            "7\n"
          ]
        }
      ]
    },
    {
      "cell_type": "code",
      "metadata": {
        "colab": {
          "base_uri": "https://localhost:8080/"
        },
        "id": "E5ut9T7-Jsnp",
        "outputId": "7609a960-6b62-4655-f13c-d72928d8f2f4"
      },
      "source": [
        "# lambda 변수 1,변수2 : 변수를 이용한 식\n",
        "\n",
        "add = lambda a,b : a+b\n",
        "r = add(3,4)\n",
        "print(r)"
      ],
      "execution_count": null,
      "outputs": [
        {
          "output_type": "stream",
          "name": "stdout",
          "text": [
            "7\n"
          ]
        }
      ]
    },
    {
      "cell_type": "code",
      "metadata": {
        "colab": {
          "base_uri": "https://localhost:8080/"
        },
        "id": "jYXhrwoYKbvK",
        "outputId": "9a0b9266-c935-4949-b5cd-f7f6b26fb2c9"
      },
      "source": [
        "# 사용자 입출력(input/print)\n",
        "\n",
        "a = input()\n",
        "print(a)\n",
        "\n",
        "# input 으로 입력 받는 모든 값은 일단 str"
      ],
      "execution_count": null,
      "outputs": [
        {
          "output_type": "stream",
          "name": "stdout",
          "text": [
            "asd\n",
            "asd\n"
          ]
        }
      ]
    },
    {
      "cell_type": "code",
      "metadata": {
        "colab": {
          "base_uri": "https://localhost:8080/"
        },
        "id": "2ekcex_HK48m",
        "outputId": "7b05eb4a-8d1d-4c8a-c07a-1df7939b5a21"
      },
      "source": [
        "a = int(input())\n",
        "\n",
        "type(a)"
      ],
      "execution_count": null,
      "outputs": [
        {
          "name": "stdout",
          "output_type": "stream",
          "text": [
            "516\n"
          ]
        },
        {
          "output_type": "execute_result",
          "data": {
            "text/plain": [
              "int"
            ]
          },
          "metadata": {},
          "execution_count": 142
        }
      ]
    },
    {
      "cell_type": "code",
      "metadata": {
        "colab": {
          "base_uri": "https://localhost:8080/"
        },
        "id": "7m1fEkPSLAF_",
        "outputId": "ce6ae5bf-324d-4bc6-9641-8ef44931ff17"
      },
      "source": [
        "# 숫자를 입력받아서 그 숫자가 홀수인지 짝수 인 판별해 주는 함수를 만들어 보자.\n",
        "\n",
        "def num(a):\n",
        "  \n",
        "  if a%2==1:\n",
        "   print(\"홀수입니다.\")\n",
        "\n",
        "  else:\n",
        "   print('짝수입니다')  \n",
        "\n",
        "num(int(input()))"
      ],
      "execution_count": null,
      "outputs": [
        {
          "output_type": "stream",
          "name": "stdout",
          "text": [
            "50\n",
            "짝수입니다\n"
          ]
        }
      ]
    },
    {
      "cell_type": "code",
      "metadata": {
        "colab": {
          "base_uri": "https://localhost:8080/"
        },
        "id": "6-4VjoORMg4E",
        "outputId": "1a04ffc5-21b3-4259-c880-6be4bfdb95b0"
      },
      "source": [
        "def method(*a):\n",
        "  sum =0\n",
        "  for n in a:\n",
        "   sum +=n\n",
        "  print(sum/len(a))\n",
        "\n",
        "method(50,60,80)"
      ],
      "execution_count": null,
      "outputs": [
        {
          "output_type": "stream",
          "name": "stdout",
          "text": [
            "63.333333333333336\n"
          ]
        }
      ]
    },
    {
      "cell_type": "code",
      "metadata": {
        "colab": {
          "base_uri": "https://localhost:8080/"
        },
        "id": "HnUghr4dQosI",
        "outputId": "37d30c2a-9cb1-414b-95db-dfbccaa1b727"
      },
      "source": [
        "def add_mul(choice, *args):\n",
        "  if choice ==\"add\":\n",
        "    result =0\n",
        "    for i in args:\n",
        "      result +=i\n",
        "    \n",
        "  elif choice==\"mul\":\n",
        "    result=1\n",
        "    for i in args:\n",
        "      result *=i\n",
        "  return result\n",
        "\n",
        "print(add_mul('mul',1,2,3,5))"
      ],
      "execution_count": null,
      "outputs": [
        {
          "output_type": "stream",
          "name": "stdout",
          "text": [
            "30\n"
          ]
        }
      ]
    },
    {
      "cell_type": "code",
      "metadata": {
        "id": "cLH6n3gySer5"
      },
      "source": [
        "# 파일 읽고 쓰기\n",
        "\n",
        "# 파일 생성\n",
        "\n",
        "f = open(\"파일이름.txt\",'w')\n",
        "f.close()\n",
        "\n",
        "# w 쓰기, r읽기, a추가\n"
      ],
      "execution_count": null,
      "outputs": []
    },
    {
      "cell_type": "code",
      "metadata": {
        "id": "tSDZC1QQTstO"
      },
      "source": [
        "f = open(\"새파일.txt\", 'w')\n",
        "for i in range(1,11):\n",
        "  data = \"%d번째 줄입니다.\\n\" %i\n",
        "  f.write(data)\n",
        "f.close()"
      ],
      "execution_count": null,
      "outputs": []
    },
    {
      "cell_type": "code",
      "metadata": {
        "colab": {
          "base_uri": "https://localhost:8080/"
        },
        "id": "YVnAARzbUNyw",
        "outputId": "6424d54b-1353-4feb-ece2-3940c9f20653"
      },
      "source": [
        "f = open(\"새파일.txt\", 'r')\n",
        "\n",
        "while True:\n",
        "  line = f.readline()\n",
        "  if not line:\n",
        "    break\n",
        "  print(line)\n",
        "\n",
        "f.close()"
      ],
      "execution_count": null,
      "outputs": [
        {
          "output_type": "stream",
          "name": "stdout",
          "text": [
            "1번째 줄입니다.\n",
            "\n",
            "2번째 줄입니다.\n",
            "\n",
            "3번째 줄입니다.\n",
            "\n",
            "4번째 줄입니다.\n",
            "\n",
            "5번째 줄입니다.\n",
            "\n",
            "6번째 줄입니다.\n",
            "\n",
            "7번째 줄입니다.\n",
            "\n",
            "8번째 줄입니다.\n",
            "\n",
            "9번째 줄입니다.\n",
            "\n",
            "10번째 줄입니다.\n",
            "\n"
          ]
        }
      ]
    },
    {
      "cell_type": "code",
      "metadata": {
        "colab": {
          "base_uri": "https://localhost:8080/"
        },
        "id": "d_t4JnoteWzC",
        "outputId": "8ee2a378-c067-47b4-f0d1-121a974cf5f0"
      },
      "source": [
        "#readlines()\n",
        "\n",
        "f = open(\"새파일.txt\",'r')\n",
        "lines = f.readlines()\n",
        "for line in lines:\n",
        "  line = line.strip()\n",
        "  print(line)\n",
        "\n",
        "f.close()\n",
        "\n",
        "# readlines 함수는 파일의 모든 줄을 다 읽어서 각각의 줄을 요소로하는 \n",
        "# 리스트로 돌려준다."
      ],
      "execution_count": null,
      "outputs": [
        {
          "output_type": "stream",
          "name": "stdout",
          "text": [
            "1번째 줄입니다.\n",
            "2번째 줄입니다.\n",
            "3번째 줄입니다.\n",
            "4번째 줄입니다.\n",
            "5번째 줄입니다.\n",
            "6번째 줄입니다.\n",
            "7번째 줄입니다.\n",
            "8번째 줄입니다.\n",
            "9번째 줄입니다.\n",
            "10번째 줄입니다.\n"
          ]
        }
      ]
    },
    {
      "cell_type": "code",
      "metadata": {
        "colab": {
          "base_uri": "https://localhost:8080/"
        },
        "id": "2i-_nF0ZfPoZ",
        "outputId": "e3832f05-859d-475e-ecfe-f7d10a26de06"
      },
      "source": [
        "#read()\n",
        "\n",
        "f = open(\"새파일.txt\",'r')\n",
        "lines = f.read()\n",
        "\n",
        "print(lines)\n",
        "f.close()\n",
        "\n",
        "#read()는 파일 내용 전체를 문자열로 돌려준다."
      ],
      "execution_count": null,
      "outputs": [
        {
          "output_type": "stream",
          "name": "stdout",
          "text": [
            "1번째 줄입니다.\n",
            "2번째 줄입니다.\n",
            "3번째 줄입니다.\n",
            "4번째 줄입니다.\n",
            "5번째 줄입니다.\n",
            "6번째 줄입니다.\n",
            "7번째 줄입니다.\n",
            "8번째 줄입니다.\n",
            "9번째 줄입니다.\n",
            "10번째 줄입니다.\n",
            "\n"
          ]
        }
      ]
    },
    {
      "cell_type": "code",
      "metadata": {
        "id": "HyFmYxm4fp4I"
      },
      "source": [
        "#수정\n",
        "\n",
        "f = open('새파일.txt' ,'a')\n",
        "for i in range(11,21):\n",
        "  data = \" %d번째 줄입니다.\\n\" %i\n",
        "  f.write(data)\n",
        "\n",
        "f.close()\n"
      ],
      "execution_count": null,
      "outputs": []
    },
    {
      "cell_type": "code",
      "metadata": {
        "id": "a38L1c4mgZJx"
      },
      "source": [
        "# With\n",
        "# 파일을 사용 후에는 항상 닫아줘야 한다.\n",
        "# 자동으로 닫으면 편하다.\n",
        "\n",
        "with open(\"새파일.txt\", 'w') as f:\n",
        "\n",
        "  f.write(\"No pain No gain\")"
      ],
      "execution_count": null,
      "outputs": []
    },
    {
      "cell_type": "code",
      "metadata": {
        "colab": {
          "base_uri": "https://localhost:8080/"
        },
        "id": "N1CCz-7qhTNa",
        "outputId": "9a9a551f-e005-4e1c-aa7d-63414cd2b768"
      },
      "source": [
        "print(\"첫번째 숫자: \")\n",
        "input1 = int(input())\n",
        "print('두번재 숫자: ')\n",
        "input2 = int(input())\n",
        "\n",
        "print('두수의 합은 %d입니다.' %(input1+input2))\n"
      ],
      "execution_count": null,
      "outputs": [
        {
          "output_type": "stream",
          "name": "stdout",
          "text": [
            "첫번째 숫자: \n",
            "80\n",
            "두번재 숫자: \n",
            "90\n",
            "두수의 합은 170입니다.\n",
            "ab\n"
          ]
        }
      ]
    },
    {
      "cell_type": "code",
      "metadata": {
        "id": "iX4IOURujDma"
      },
      "source": [
        "#class .......\n",
        "# C언어에는 클래스가 없다. 객체지향이 없다.\n",
        "# 클래스는 반드시 필요한 것은 아니지만 사용한다면\n",
        "# 얻을 수 있는 이익이 상당하다."
      ],
      "execution_count": null,
      "outputs": []
    },
    {
      "cell_type": "code",
      "metadata": {
        "colab": {
          "base_uri": "https://localhost:8080/"
        },
        "id": "TTm1iwlflBaX",
        "outputId": "877ab4de-ccac-49c8-f814-d6cb9a80b68d"
      },
      "source": [
        "# 계산기\n",
        "\n",
        "result1 = 0\n",
        "result2 =0\n",
        "\n",
        "def add1(num):\n",
        "  global result1 # 이전에 계산 값을 유지 하기 위해 전역변수 사용 \n",
        "  result1 +=num\n",
        "  return result1\n",
        "\n",
        "def add2(num):\n",
        "  global result2 # 이전에 계산 값을 유지 하기 위해 전역변수 사용 \n",
        "  result2 +=num\n",
        "  return result2\n",
        "\n",
        "\n",
        "print(add1(3))\n",
        "print(add1(4))\n",
        "print(add1(5))\n",
        "print(\"\")\n",
        "print(add2(2))\n",
        "print(add2(3))"
      ],
      "execution_count": null,
      "outputs": [
        {
          "output_type": "stream",
          "name": "stdout",
          "text": [
            "3\n",
            "7\n",
            "12\n",
            "\n",
            "2\n",
            "5\n"
          ]
        }
      ]
    },
    {
      "cell_type": "code",
      "metadata": {
        "colab": {
          "base_uri": "https://localhost:8080/"
        },
        "id": "XuVf6ajfmcaB",
        "outputId": "b5834980-bc27-495f-ffb4-186e57b25dbc"
      },
      "source": [
        "class Calculator:\n",
        "  def __init__(self):  #생성자\n",
        "    self.result=0\n",
        "  \n",
        "\n",
        "  def add(self,num):\n",
        "    self.result +=num\n",
        "    return self.result\n",
        "\n",
        "cal1 = Calculator()\n",
        "cal2 = Calculator()\n",
        "cla3 = Calculator()\n",
        "\n",
        "\n",
        "print(cal1.add(3))\n",
        "print(cal1.add(3))\n",
        "print(cal1.add(3))"
      ],
      "execution_count": null,
      "outputs": [
        {
          "output_type": "stream",
          "name": "stdout",
          "text": [
            "3\n",
            "6\n",
            "9\n"
          ]
        }
      ]
    }
  ]
}
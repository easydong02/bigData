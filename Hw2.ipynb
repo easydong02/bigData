{
  "nbformat": 4,
  "nbformat_minor": 0,
  "metadata": {
    "colab": {
      "name": "Hw2.ipynb",
      "provenance": [],
      "collapsed_sections": []
    },
    "kernelspec": {
      "name": "python3",
      "display_name": "Python 3"
    },
    "language_info": {
      "name": "python"
    }
  },
  "cells": [
    {
      "cell_type": "code",
      "metadata": {
        "colab": {
          "base_uri": "https://localhost:8080/"
        },
        "id": "zksRapzbPaQm",
        "outputId": "35d770e3-1a24-4c5e-b6fd-1e733f24c538"
      },
      "source": [
        "#051\n",
        "movie_rank =['닥터 스트레인지', '스플릿','럭키']\n",
        "print(movie_rank)"
      ],
      "execution_count": null,
      "outputs": [
        {
          "output_type": "stream",
          "name": "stdout",
          "text": [
            "['닥터 스트레인지', '스플릿', '럭키']\n"
          ]
        }
      ]
    },
    {
      "cell_type": "code",
      "metadata": {
        "colab": {
          "base_uri": "https://localhost:8080/"
        },
        "id": "iBTMhVKqPcVq",
        "outputId": "5bfef475-e493-4e05-8218-adad3b1a5444"
      },
      "source": [
        "#052\n",
        "movie_rank.append(\"배트맨\")\n",
        "print(movie_rank)"
      ],
      "execution_count": null,
      "outputs": [
        {
          "output_type": "stream",
          "name": "stdout",
          "text": [
            "['닥터 스트레인지', '스플릿', '럭키', '배트맨']\n"
          ]
        }
      ]
    },
    {
      "cell_type": "code",
      "metadata": {
        "colab": {
          "base_uri": "https://localhost:8080/"
        },
        "id": "ZmLo-P5hPctU",
        "outputId": "48afb5ec-d5f9-42f9-d690-e7caf7006940"
      },
      "source": [
        "#0523\n",
        "movie_rank.insert(1,\"슈퍼맨\")\n",
        "print(movie_rank)"
      ],
      "execution_count": null,
      "outputs": [
        {
          "output_type": "stream",
          "name": "stdout",
          "text": [
            "['닥터 스트레인지', '슈퍼맨', '스플릿', '럭키', '배트맨']\n"
          ]
        }
      ]
    },
    {
      "cell_type": "code",
      "metadata": {
        "colab": {
          "base_uri": "https://localhost:8080/"
        },
        "id": "M65x8yzMPcvY",
        "outputId": "2d11f6f8-1eea-4422-8642-2ecc801a3c3f"
      },
      "source": [
        "#054\n",
        "movie_rank.remove(\"럭키\")\n",
        "print(movie_rank)"
      ],
      "execution_count": null,
      "outputs": [
        {
          "output_type": "stream",
          "name": "stdout",
          "text": [
            "['닥터 스트레인지', '슈퍼맨', '스플릿', '배트맨']\n"
          ]
        }
      ]
    },
    {
      "cell_type": "code",
      "metadata": {
        "colab": {
          "base_uri": "https://localhost:8080/"
        },
        "id": "RndsIUsZPcxk",
        "outputId": "e68c5e25-6855-4082-b8e0-5c1d5a86d3ad"
      },
      "source": [
        "#055\n",
        "movie_rank.remove(\"스플릿\")\n",
        "movie_rank.remove(\"배트맨\")\n",
        "print(movie_rank)"
      ],
      "execution_count": null,
      "outputs": [
        {
          "output_type": "stream",
          "name": "stdout",
          "text": [
            "['닥터 스트레인지', '슈퍼맨']\n"
          ]
        }
      ]
    },
    {
      "cell_type": "code",
      "metadata": {
        "colab": {
          "base_uri": "https://localhost:8080/"
        },
        "id": "uR4THzCXPczn",
        "outputId": "53ff2fa1-509a-4943-9748-714399249b30"
      },
      "source": [
        "#056\n",
        "lang1 = set([\"C\",\"C++\",\"JAVA\"])\n",
        "lang2 = set([\"Python\",\"Go\",\"C#\"])\n",
        "langs = lang1 | lang2\n",
        "print(langs)"
      ],
      "execution_count": null,
      "outputs": [
        {
          "output_type": "stream",
          "name": "stdout",
          "text": [
            "{'JAVA', 'C', 'Go', 'Python', 'C++', 'C#'}\n"
          ]
        }
      ]
    },
    {
      "cell_type": "code",
      "metadata": {
        "colab": {
          "base_uri": "https://localhost:8080/"
        },
        "id": "N8OEhwXMPc10",
        "outputId": "64418467-4d35-4667-b000-598c2a8de844"
      },
      "source": [
        "#057\n",
        "nums = [1,2,3,4,5,6,7]\n",
        "print(max(nums))\n",
        "print(min(nums))"
      ],
      "execution_count": null,
      "outputs": [
        {
          "output_type": "stream",
          "name": "stdout",
          "text": [
            "7\n",
            "1\n"
          ]
        }
      ]
    },
    {
      "cell_type": "code",
      "metadata": {
        "colab": {
          "base_uri": "https://localhost:8080/"
        },
        "id": "r_KurvXBPc3w",
        "outputId": "7bb86930-a231-4283-e061-a3d16ad9d32e"
      },
      "source": [
        "#058\n",
        "nums=[1,2,3,4,5]\n",
        "sum =0\n",
        "for n in nums:\n",
        "  sum +=n\n",
        "print(sum)"
      ],
      "execution_count": null,
      "outputs": [
        {
          "output_type": "stream",
          "name": "stdout",
          "text": [
            "15\n"
          ]
        }
      ]
    },
    {
      "cell_type": "code",
      "metadata": {
        "colab": {
          "base_uri": "https://localhost:8080/"
        },
        "id": "l9NmRQBSPc53",
        "outputId": "5de94643-37e0-419c-cd0f-6702a2c48819"
      },
      "source": [
        "#059\n",
        "cook =[\"피자\",\"김밥\",\"만두\",\"양념치킨\",\"족발\",\"김치만두\",\"쫄면\",\"쏘세지\",\"라면\",\"팥빙수\",\"김치전\"]\n",
        "print(len(cook))"
      ],
      "execution_count": null,
      "outputs": [
        {
          "output_type": "stream",
          "name": "stdout",
          "text": [
            "11\n"
          ]
        }
      ]
    },
    {
      "cell_type": "code",
      "metadata": {
        "colab": {
          "base_uri": "https://localhost:8080/"
        },
        "id": "KsBmZzklPc7u",
        "outputId": "c44a1dc0-ada9-4b73-e128-3430bfdaa94c"
      },
      "source": [
        "#060\n",
        "nums=[1,2,3,4,5]\n",
        "sum =0\n",
        "for n in nums:\n",
        "  sum +=n\n",
        "print(sum/len(nums))"
      ],
      "execution_count": null,
      "outputs": [
        {
          "output_type": "stream",
          "name": "stdout",
          "text": [
            "3.0\n"
          ]
        }
      ]
    },
    {
      "cell_type": "code",
      "metadata": {
        "colab": {
          "base_uri": "https://localhost:8080/"
        },
        "id": "S4_fzF6oPc92",
        "outputId": "907e24b6-ad50-4c6f-93d6-38a10b9ede34"
      },
      "source": [
        "#121\n",
        "ch = input()\n",
        "if ch.islower():\n",
        "  print(ch.upper())\n",
        " \n",
        "else:\n",
        "  print(ch.lower())"
      ],
      "execution_count": null,
      "outputs": [
        {
          "output_type": "stream",
          "name": "stdout",
          "text": [
            "'A'\n",
            "'a'\n"
          ]
        }
      ]
    },
    {
      "cell_type": "code",
      "metadata": {
        "colab": {
          "base_uri": "https://localhost:8080/"
        },
        "id": "aD7wgSadPc_4",
        "outputId": "14450b30-ceeb-4043-d4b6-7d747425a545"
      },
      "source": [
        "#122\n",
        "score = int(input())\n",
        "if score>100:\n",
        "  print(\"0과 100사이의 점수를 입력하십시오.\")\n",
        "elif score >=81:\n",
        "  print('A')\n",
        "elif score >=61:\n",
        "  print('B')\n",
        "elif score >=41:\n",
        "  print('C')\n",
        "elif score >=21:\n",
        "  print('D')\n",
        "elif score >=0:\n",
        "  print('E')\n",
        "else:\n",
        "  print(\"0과 100사이의 점수를 입력하십시오.\")"
      ],
      "execution_count": null,
      "outputs": [
        {
          "output_type": "stream",
          "name": "stdout",
          "text": [
            "88\n",
            "A\n"
          ]
        }
      ]
    },
    {
      "cell_type": "code",
      "metadata": {
        "colab": {
          "base_uri": "https://localhost:8080/"
        },
        "id": "qeEdC7sWPdBv",
        "outputId": "8b31359d-4a74-4c82-e314-e4a4db900c9b"
      },
      "source": [
        "#123\n",
        "moneyInput = input()\n",
        "moneyType = moneyInput[moneyInput.find(\" \")+1:]\n",
        "money = moneyInput[:moneyInput.find(\" \")]\n",
        "if moneyType=='달러':\n",
        "  print(int(money)*1167.00, end='원')\n",
        "elif moneyType=='엔':\n",
        "  print(int(money)*1.096, end='원')\n",
        "elif moneyType=='유로':\n",
        "  print(int(money)*1268.00, end='원')\n",
        "elif moneyType=='위안':\n",
        "  print(int(money)*171.00, end='원')\n",
        "else :\n",
        "  print('잘못된 입력값입니다.')  "
      ],
      "execution_count": null,
      "outputs": [
        {
          "output_type": "stream",
          "name": "stdout",
          "text": [
            "100 달러\n",
            "116700.0원"
          ]
        }
      ]
    },
    {
      "cell_type": "code",
      "metadata": {
        "colab": {
          "base_uri": "https://localhost:8080/"
        },
        "id": "BDMJZ8l2VSNZ",
        "outputId": "2759f242-2c31-40fb-ab88-ce488a405626"
      },
      "source": [
        "#124\n",
        "nums =[]\n",
        "print(\"input number1: \")\n",
        "nums.append(int(input()))\n",
        "print(\"input number2: \")\n",
        "nums.append(int(input()))\n",
        "print(\"input number3: \")\n",
        "nums.append(int(input()))\n",
        "\n",
        "print(max(nums))"
      ],
      "execution_count": null,
      "outputs": [
        {
          "output_type": "stream",
          "name": "stdout",
          "text": [
            "input number1: \n",
            "50\n",
            "input number2: \n",
            "60\n",
            "input number3: \n",
            "90\n",
            "90\n"
          ]
        }
      ]
    },
    {
      "cell_type": "code",
      "metadata": {
        "colab": {
          "base_uri": "https://localhost:8080/"
        },
        "id": "wzDDpivkWh0U",
        "outputId": "2e2e8e75-812c-45d0-f084-73829cc47665"
      },
      "source": [
        "#125\n",
        "print(\"휴대전화 번호 입력: \")\n",
        "phoneNumber = input()\n",
        "telecom = phoneNumber[:3]\n",
        "if telecom ==\"011\":\n",
        "  print(\"당신은 SKT 사용자입니다.\")\n",
        "elif telecom ==\"016\":\n",
        "  print(\"당신은 KT 사용자입니다.\")\n",
        "elif telecom ==\"019\":\n",
        "  print(\"당신은 LGU 사용자입니다.\")\n",
        "elif telecom ==\"010\":\n",
        "  print(\"알 수 없음.\")"
      ],
      "execution_count": null,
      "outputs": [
        {
          "output_type": "stream",
          "name": "stdout",
          "text": [
            "휴대전화 번호 입력: \n",
            "011-345-1922\n",
            "당신은 SKT 사용자입니다.\n"
          ]
        }
      ]
    },
    {
      "cell_type": "code",
      "metadata": {
        "colab": {
          "base_uri": "https://localhost:8080/"
        },
        "id": "-idLcjECXyDF",
        "outputId": "fffb76a1-6cbb-4ec4-eb31-21956bba5e26"
      },
      "source": [
        "#126\n",
        "print(\"우편번호: \")\n",
        "postNumber = input()\n",
        "seoul = int(postNumber[2])\n",
        "print(seoul)\n",
        "if seoul>=0 and seoul<3:\n",
        "  print('강북구')\n",
        "elif seoul>=3 and seoul<6:\n",
        "  print('도봉구')\n",
        "elif seoul>=6 and seoul<10:\n",
        "  print('노원구') "
      ],
      "execution_count": null,
      "outputs": [
        {
          "output_type": "stream",
          "name": "stdout",
          "text": [
            "우편번호: \n",
            "01456\n",
            "4\n",
            "도봉구\n"
          ]
        }
      ]
    },
    {
      "cell_type": "code",
      "metadata": {
        "colab": {
          "base_uri": "https://localhost:8080/"
        },
        "id": "pyjZFVgZaEzM",
        "outputId": "40330fd2-faaf-47aa-a213-76e1de90e756"
      },
      "source": [
        "#127\n",
        "print(\"주민등록번호: \")\n",
        "civilNumber = input()\n",
        "isWho = int(civilNumber[7])\n",
        "\n",
        "if isWho==1 or isWho==3:\n",
        "  print(\"남자\")\n",
        "elif isWho==2 or isWho==4:\n",
        "  print(\"여자\")\n",
        "else:\n",
        "  print(\"김정은 나쁜놈해봐\")"
      ],
      "execution_count": null,
      "outputs": [
        {
          "output_type": "stream",
          "name": "stdout",
          "text": [
            "주민등록번호: \n",
            "950202-8546221\n",
            "김정은 개새끼해봐\n"
          ]
        }
      ]
    },
    {
      "cell_type": "code",
      "metadata": {
        "colab": {
          "base_uri": "https://localhost:8080/"
        },
        "id": "p48XVmTja4Ec",
        "outputId": "830fde93-1982-4f3c-dd6d-5ce4011f5b64"
      },
      "source": [
        "#128\n",
        "print(\"주민등록번호: \")\n",
        "civilNumber = input()\n",
        "isWho = int(civilNumber[8:10])\n",
        "if isWho>=0 and isWho<9:\n",
        "  print(\"서울입니다.\")\n",
        "elif isWho>=9 and isWho<13:\n",
        "  print(\"부산입니다.\")\n",
        "else:\n",
        "  print(\"서울과 부산이 아닙니다.\")"
      ],
      "execution_count": null,
      "outputs": [
        {
          "output_type": "stream",
          "name": "stdout",
          "text": [
            "주민등록번호: \n",
            "950202-1143215\n",
            "서울과 부산이 아닙니다.\n"
          ]
        }
      ]
    },
    {
      "cell_type": "code",
      "metadata": {
        "colab": {
          "base_uri": "https://localhost:8080/"
        },
        "id": "WIZ3IfX-cF6M",
        "outputId": "0cd42006-119a-44aa-893c-09e74430ce54"
      },
      "source": [
        "#129\n",
        "print(\"주민등록번호: \")\n",
        "civilNumber = input()\n",
        "lastNumber = int(civilNumber[13])\n",
        "numberTo12 = civilNumber[:13]\n",
        "i=2\n",
        "sum=0\n",
        "for n in numberTo12:\n",
        "  if n != \"-\":\n",
        "    sum += int(n)*i\n",
        "    i +=1\n",
        "    if i ==10:\n",
        "      i=2\n",
        "      \n",
        "print(11-(sum%11))\n",
        "if 11-(sum%11)==lastNumber:\n",
        "  print('유효한 주민등록번호입니다.')\n",
        "\n",
        "else:\n",
        "  print('유효하지 않은 주민등록번호입니다.')"
      ],
      "execution_count": null,
      "outputs": [
        {
          "output_type": "stream",
          "name": "stdout",
          "text": [
            "주민등록번호: \n",
            "951021-1044568\n",
            "유효하지 않은 주민등록번호입니다.\n"
          ]
        }
      ]
    },
    {
      "cell_type": "code",
      "metadata": {
        "colab": {
          "base_uri": "https://localhost:8080/"
        },
        "id": "s9BR1hE1kJ2-",
        "outputId": "4b130365-7833-424d-ab18-e4244db22ab3"
      },
      "source": [
        "#130\n",
        "\n",
        "import requests\n",
        "\n",
        "btc = requests.get(\"http://api.bithumb.com/public/ticker/\").json()['data']\n",
        "sub =int(btc['max_price'])- int(btc['min_price'])\n",
        "isWhat = int(btc['closing_price']) +sub\n",
        "\n",
        "if isWhat>int(btc['max_price']):\n",
        "  print('상승장')\n",
        "else:\n",
        "  print('하락장')"
      ],
      "execution_count": null,
      "outputs": [
        {
          "output_type": "stream",
          "name": "stdout",
          "text": [
            "62076000\n",
            "상승장\n"
          ]
        }
      ]
    },
    {
      "cell_type": "code",
      "metadata": {
        "colab": {
          "base_uri": "https://localhost:8080/"
        },
        "id": "1utsGk-kuLFQ",
        "outputId": "d4713836-34c9-4942-8956-74280f7ee9c9"
      },
      "source": [
        "#\n",
        "n=0\n",
        "total =0\n",
        "while n<1000:\n",
        "  if n %3 ==0 or n%5==0:\n",
        "    total +=n\n",
        "  n +=1\n",
        "print(total)"
      ],
      "execution_count": 2,
      "outputs": [
        {
          "output_type": "stream",
          "name": "stdout",
          "text": [
            "234168\n"
          ]
        }
      ]
    }
  ]
}